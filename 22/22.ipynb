{
 "cells": [
  {
   "cell_type": "code",
   "execution_count": 1,
   "metadata": {},
   "outputs": [],
   "source": [
    "import numpy as np\n",
    "import regex as re\n",
    "from collections import deque"
   ]
  },
  {
   "cell_type": "code",
   "execution_count": 2,
   "metadata": {},
   "outputs": [],
   "source": [
    "with open(\"inp.txt\") as f:\n",
    "    inp = f.read().splitlines()\n",
    "mmap = inp[:-2]\n",
    "instructions = inp[-1]"
   ]
  },
  {
   "cell_type": "code",
   "execution_count": 3,
   "metadata": {},
   "outputs": [],
   "source": [
    "instructions = re.findall('\\d+|[A-Z]',instructions)\n",
    "# instructions"
   ]
  },
  {
   "cell_type": "code",
   "execution_count": 4,
   "metadata": {},
   "outputs": [],
   "source": [
    "max_x = max((len(x) for x in mmap))\n",
    "mmap = np.array([list(x.ljust(max_x)) for x in mmap])\n",
    "mmap = np.vectorize(lambda x: ord(x))(mmap)\n",
    "mmap[mmap == 32] = -1\n",
    "mmap[mmap == 46] = 0\n",
    "mmap[mmap == 35] = 1\n",
    "# mmap"
   ]
  },
  {
   "cell_type": "code",
   "execution_count": 5,
   "metadata": {},
   "outputs": [],
   "source": [
    "face_score = {\n",
    "    \">\": 0,\n",
    "    \"v\": 1,\n",
    "    \"<\": 2,\n",
    "    \"^\": 3\n",
    "}\n",
    "facings = deque((\">\",\"v\",\"<\",\"^\"))"
   ]
  },
  {
   "cell_type": "code",
   "execution_count": 6,
   "metadata": {},
   "outputs": [],
   "source": [
    "loc = 0,np.where(mmap[0] == 0)[0][0]\n",
    "facing = \">\""
   ]
  },
  {
   "cell_type": "code",
   "execution_count": 7,
   "metadata": {},
   "outputs": [],
   "source": [
    "def finish(y,x):\n",
    "    print(f\"finished at: row {x}. column {y}. facing {facing}\")\n",
    "    print(\n",
    "        f\"Password: {1000 * x} + {4 * y} + {face_score[facing]}\")"
   ]
  },
  {
   "cell_type": "code",
   "execution_count": 8,
   "metadata": {},
   "outputs": [],
   "source": [
    "def check_new(y,x):\n",
    "    global mmap\n",
    "\n",
    "    if mmap[y,x] == 1:\n",
    "        return 1\n",
    "    elif mmap[y,x] == 0:\n",
    "        return 0\n",
    "\n",
    "    elif mmap[y,x] == -1:\n",
    "        return -1\n"
   ]
  },
  {
   "cell_type": "code",
   "execution_count": 9,
   "metadata": {},
   "outputs": [
    {
     "name": "stdout",
     "output_type": "stream",
     "text": [
      "Finished at: Row 27. Column 123. Facing >.\n",
      "Password: 27492\n"
     ]
    }
   ],
   "source": [
    "for instr in instructions:\n",
    "    try:\n",
    "        instr = int(instr)\n",
    "    except ValueError:\n",
    "        pass\n",
    "    if isinstance(instr, int):\n",
    "        # print(facing, end=\" \")\n",
    "        while instr > 0:\n",
    "            y,x  = loc\n",
    "            if x+1 == mmap.shape[1]:\n",
    "                x = -1\n",
    "            if y+1 == mmap.shape[0]:\n",
    "                y = -1\n",
    "            # print(loc)\n",
    "            # print(instr, end=\" \")\n",
    "            if facing == \">\":\n",
    "                result = check_new(y, x+1)\n",
    "                if result == -1:\n",
    "                    # First 0 in row\n",
    "                    next_loc = y, np.where(mmap[y] != -1)[0][0]\n",
    "                    if mmap[next_loc] == 1:\n",
    "                        instr = 0\n",
    "                    else:\n",
    "                        loc = next_loc\n",
    "                elif result == 1:\n",
    "                    instr = 0\n",
    "                else: \n",
    "                    loc = y, x+1\n",
    "            elif facing == \"v\":\n",
    "                result = check_new(y+1, x)\n",
    "                if result == -1:\n",
    "                    # First 0 in column\n",
    "                    next_loc = np.where(mmap[:,x] != -1)[0][0], x\n",
    "                    if mmap[next_loc] == 1:\n",
    "                        instr = 0\n",
    "                    else:\n",
    "                        loc = next_loc\n",
    "                elif result == 1:\n",
    "                    instr = 0\n",
    "                else: \n",
    "                    loc = y+1, x\n",
    "            elif facing == \"<\":\n",
    "                result = check_new(y, x-1)\n",
    "                if result == -1:\n",
    "                    # Last 0 in row\n",
    "                    next_loc = y, np.where(mmap[y] != -1)[0][-1]\n",
    "                    if mmap[next_loc] == 1:\n",
    "                        instr = 0\n",
    "                    else:\n",
    "                        loc = next_loc\n",
    "                elif result == 1:\n",
    "                    instr = 0\n",
    "                else: \n",
    "                    loc = y, x-1\n",
    "            elif facing == \"^\":\n",
    "                result = check_new(y-1, x)\n",
    "                if result == -1:\n",
    "                    # Last 0 in column\n",
    "                    next_loc = np.where(mmap[:,x] != -1)[0][-1], x\n",
    "                    if mmap[next_loc] == 1:\n",
    "                        instr = 0\n",
    "                    else:\n",
    "                        loc = next_loc\n",
    "                elif result == 1:\n",
    "                    instr = 0\n",
    "                else: \n",
    "                    loc = y-1, x\n",
    "            instr -= 1\n",
    "            # print(loc)\n",
    "\n",
    "    else:\n",
    "        # print(\"\\n\",facing, end=\" \")\n",
    "        # print(instr, end=\" \")\n",
    "        if instr == \"R\":\n",
    "            facings.rotate(-1)\n",
    "        else:\n",
    "            facings.rotate(1)\n",
    "        facing = facings[0]\n",
    "        # print(facing)\n",
    "\n",
    "y,x  = loc\n",
    "print(f\"Finished at: Row {y+1}. Column {x+1}. Facing {facing}.\")\n",
    "print(f\"Password: {1000 * (y+1) + 4 * (x+1) + face_score[facing]}\")\n"
   ]
  },
  {
   "attachments": {},
   "cell_type": "markdown",
   "metadata": {},
   "source": [
    "# Part 2"
   ]
  },
  {
   "cell_type": "code",
   "execution_count": 10,
   "metadata": {},
   "outputs": [],
   "source": [
    "with open(\"inp.txt\") as f:\n",
    "    inp = f.read().splitlines()\n",
    "mmap = inp[:-2]\n",
    "instructions = inp[-1]"
   ]
  },
  {
   "cell_type": "code",
   "execution_count": 11,
   "metadata": {},
   "outputs": [],
   "source": [
    "instructions = [int(x) if x.isnumeric() else x for x in re.findall('\\d+|[A-Z]', instructions)]"
   ]
  },
  {
   "cell_type": "code",
   "execution_count": 12,
   "metadata": {},
   "outputs": [],
   "source": [
    "max_x = max((len(x) for x in mmap))\n",
    "mmap = np.array([list(x.ljust(max_x)) for x in mmap])"
   ]
  },
  {
   "cell_type": "code",
   "execution_count": 13,
   "metadata": {},
   "outputs": [],
   "source": [
    "class Face:\n",
    "    def __init__(self, y, x, sides):\n",
    "        self.offsets = x, y\n",
    "        self.map = mmap[y:y+50,x:x+50]\n",
    "        self.sides = sides\n",
    "\n",
    "    def shift(self, dir, x, y):\n",
    "        this = self.sides[dir]\n",
    "        n_face = this[0]\n",
    "        n_x, n_y = this[1](x,y)\n",
    "        n_dir = this[2]\n",
    "\n",
    "        return n_face, n_x, n_y, n_dir"
   ]
  },
  {
   "cell_type": "code",
   "execution_count": 14,
   "metadata": {},
   "outputs": [],
   "source": [
    "A = 0, 50\n",
    "B = 0, 100\n",
    "C = 50, 50\n",
    "D = 100, 50\n",
    "E = 100, 0\n",
    "F = 150, 0"
   ]
  },
  {
   "cell_type": "code",
   "execution_count": 15,
   "metadata": {},
   "outputs": [],
   "source": [
    "# direction: [new face, new (x,y), new direction]\n",
    "A_sides = {\n",
    "    \">\": [\"B\", lambda x,y: (0, y), \">\"],\n",
    "    \"v\": [\"C\", lambda x,y: (x, 0), \"v\"],\n",
    "    \"<\": [\"E\", lambda x,y: (0, 49 - y), \">\"],\n",
    "    \"^\": [\"F\", lambda x,y: (0, x), \">\"],\n",
    "}\n",
    "\n",
    "B_sides = {\n",
    "    \">\": [\"D\", lambda x,y: (49, 49 - y), \"<\"],\n",
    "    \"v\": [\"C\", lambda x,y: (49, x), \"<\"],\n",
    "    \"<\": [\"A\", lambda x,y: (49, y), \"<\"],\n",
    "    \"^\": [\"F\", lambda x,y: (x, 49), \"^\"],\n",
    "}\n",
    "\n",
    "C_sides = {\n",
    "    \">\": [\"B\", lambda x,y: (y, 49), \"^\"],\n",
    "    \"v\": [\"D\", lambda x,y: (x, 0), \"v\"],\n",
    "    \"<\": [\"E\", lambda x,y: (y, 0), \"v\"],\n",
    "    \"^\": [\"A\", lambda x,y: (x, 49), \"^\"]\n",
    "}\n",
    "\n",
    "D_sides = {\n",
    "    \">\": [\"B\", lambda x,y: (49, 49 - y), \"<\"],\n",
    "    \"v\": [\"F\", lambda x,y: (49, x), \"<\"],\n",
    "    \"<\": [\"E\", lambda x,y: (49, y), \"<\"],\n",
    "    \"^\": [\"C\", lambda x,y: (x, 49), \"^\"],\n",
    "}\n",
    "\n",
    "E_sides = {\n",
    "    \">\": [\"D\", lambda x,y: (0, y), \">\"],\n",
    "    \"v\": [\"F\", lambda x,y: (x, 0), \"v\"],\n",
    "    \"<\": [\"A\", lambda x,y: (0, 49 - y), \">\"],\n",
    "    \"^\": [\"C\", lambda x,y: (0, x), \">\"],\n",
    "}\n",
    "\n",
    "F_sides = {\n",
    "    \">\": [\"D\", lambda x,y: (y, 49), \"^\"],\n",
    "    \"v\": [\"B\", lambda x,y: (x, 0), \"v\"],\n",
    "    \"<\": [\"A\", lambda x,y: (y, 0), \"v\"],\n",
    "    \"^\": [\"E\", lambda x,y: (x, 49), \"^\"],\n",
    "}\n"
   ]
  },
  {
   "cell_type": "code",
   "execution_count": 16,
   "metadata": {},
   "outputs": [],
   "source": [
    "faces = {\n",
    "    \"A\": Face(*A, A_sides),\n",
    "    \"B\": Face(*B, B_sides),\n",
    "    \"C\": Face(*C, C_sides),\n",
    "    \"D\": Face(*D, D_sides),\n",
    "    \"E\": Face(*E, E_sides),\n",
    "    \"F\": Face(*F, F_sides),\n",
    "}"
   ]
  },
  {
   "cell_type": "code",
   "execution_count": 17,
   "metadata": {},
   "outputs": [],
   "source": [
    "dir_score = {\n",
    "    \">\": 0,\n",
    "    \"v\": 1,\n",
    "    \"<\": 2,\n",
    "    \"^\": 3\n",
    "}\n",
    "dirs = deque((\">\",\"v\",\"<\",\"^\"))"
   ]
  },
  {
   "cell_type": "code",
   "execution_count": 18,
   "metadata": {},
   "outputs": [
    {
     "name": "stdout",
     "output_type": "stream",
     "text": [
      "Finished at: Face C. Row 28. Column 22. Direction ^.\n",
      "Password: 78291\n"
     ]
    }
   ],
   "source": [
    "loc = (\"A\", (0, 0))\n",
    "dir = \">\"\n",
    "\n",
    "for instr in instructions:\n",
    "    if isinstance(instr, int):\n",
    "        while instr > 0:\n",
    "            # print(instr)\n",
    "            face, (y, x) = loc\n",
    "            # print(loc, dir)\n",
    "            if dir == \">\":\n",
    "                if x+1 == 50:\n",
    "                    n_face, n_x, n_y, n_dir = faces[face].shift(dir, x, y)\n",
    "                    if faces[n_face].map[n_y,n_x] == \"#\":\n",
    "                        # print(f\"Hit wall when moving from {face} to {n_face}!\")\n",
    "                        break\n",
    "                    loc = (n_face, (n_y, n_x))\n",
    "                    dir = n_dir\n",
    "                else:\n",
    "                    if faces[face].map[y,x+1] == \"#\":\n",
    "                        # print(\"Hit wall\")\n",
    "                        break\n",
    "                    loc = (face, (y, x+1))\n",
    "                faces[loc[0]].map[loc[1]] = dir\n",
    "\n",
    "            elif dir == \"v\":\n",
    "                if y+1 == 50:\n",
    "                    n_face, n_x, n_y, n_dir = faces[face].shift(dir, x, y)\n",
    "                    if faces[n_face].map[n_y,n_x] == \"#\":\n",
    "                        # print(f\"Hit wall when moving from {face} to {n_face}!\")\n",
    "                        break\n",
    "                    loc = (n_face, (n_y, n_x))\n",
    "                    dir = n_dir\n",
    "                else:\n",
    "                    if faces[face].map[y+1,x] == \"#\":\n",
    "                        # print(\"Hit wall\")\n",
    "                        break\n",
    "                    loc = (face, (y+1, x))\n",
    "                faces[loc[0]].map[loc[1]] = dir\n",
    "\n",
    "            elif dir == \"<\":\n",
    "                if x-1 == -1:\n",
    "                    n_face, n_x, n_y, n_dir = faces[face].shift(dir, x, y)\n",
    "                    if faces[n_face].map[n_y,n_x] == \"#\":\n",
    "                        # print(f\"Hit wall when moving from {face} to {n_face}!\")\n",
    "                        break\n",
    "                    loc = (n_face, (n_y, n_x))\n",
    "                    dir = n_dir\n",
    "                else:\n",
    "                    if faces[face].map[y,x-1] == \"#\":\n",
    "                        # print(\"Hit wall\")\n",
    "                        break\n",
    "                    loc = (face, (y, x-1))\n",
    "                faces[loc[0]].map[loc[1]] = dir\n",
    "\n",
    "            elif dir == \"^\":\n",
    "                if y-1 == -1:\n",
    "                    n_face, n_x, n_y, n_dir = faces[face].shift(dir, x, y)\n",
    "                    if faces[n_face].map[n_y,n_x] == \"#\":\n",
    "                        # print(f\"Hit wall when moving from {face} to {n_face}!\")\n",
    "                        break\n",
    "                    loc = (n_face, (n_y, n_x))\n",
    "                    dir = n_dir\n",
    "                else:\n",
    "                    if faces[face].map[y-1,x] == \"#\":\n",
    "                        # print(\"Hit wall\")\n",
    "                        break\n",
    "                    loc = (face, (y-1, x))\n",
    "                faces[loc[0]].map[loc[1]] = dir\n",
    "                    \n",
    "            instr -= 1\n",
    "\n",
    "\n",
    "    else:\n",
    "        # print(instr)\n",
    "        while not dirs[0] == dir:\n",
    "            dirs.rotate(1)\n",
    "        if instr == \"R\":\n",
    "            dirs.rotate(-1)\n",
    "        else:\n",
    "            dirs.rotate(1)\n",
    "        dir = dirs[0]\n",
    "\n",
    "face, (y, x) = loc\n",
    "print(f\"Finished at: Face {face}. Row {y+1}. Column {x+1}. Direction {dir}.\")\n",
    "x_offset, y_offset = faces[face].offsets\n",
    "print(f\"Password: {(1000 * (y+y_offset+1)) + (4 * (x+x_offset+1)) + dir_score[dir]}\")"
   ]
  }
 ],
 "metadata": {
  "kernelspec": {
   "display_name": "Python 3.10.6 64-bit ('lewagon')",
   "language": "python",
   "name": "python3"
  },
  "language_info": {
   "codemirror_mode": {
    "name": "ipython",
    "version": 3
   },
   "file_extension": ".py",
   "mimetype": "text/x-python",
   "name": "python",
   "nbconvert_exporter": "python",
   "pygments_lexer": "ipython3",
   "version": "3.10.6"
  },
  "orig_nbformat": 4,
  "vscode": {
   "interpreter": {
    "hash": "9e3810add8eaf207f04a2e3e099bb34c61927853b3f8b08ba72133680f0e19b6"
   }
  }
 },
 "nbformat": 4,
 "nbformat_minor": 2
}
