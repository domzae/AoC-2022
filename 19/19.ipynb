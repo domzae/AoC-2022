{
 "cells": [
  {
   "cell_type": "code",
   "execution_count": 4,
   "metadata": {},
   "outputs": [],
   "source": [
    "import re"
   ]
  },
  {
   "cell_type": "code",
   "execution_count": 5,
   "metadata": {},
   "outputs": [],
   "source": [
    "with open(\"inp.txt\") as f:\n",
    "    inp = [re.findall(r'\\d+',x) for x in f.read().splitlines()]\n",
    "    \n",
    "blueprints = {}\n",
    "for bp, ore1, ore2, ore3, clay1, ore4, obs1 in inp:\n",
    "    blueprints[int(bp)] = {\n",
    "        \"ore\": [int(ore1), int(ore2), int(ore3), int(ore4)],\n",
    "        \"clay\": int(clay1),\n",
    "        \"obs\": int(obs1),\n",
    "    }"
   ]
  },
  {
   "cell_type": "code",
   "execution_count": 6,
   "metadata": {},
   "outputs": [],
   "source": [
    "def get_geodes(time, backpack, bots):\n",
    "    global cost_ore, cost_clay, cost_obs, seen\n",
    "\n",
    "    if time == 0:\n",
    "        return 0\n",
    "\n",
    "    hash = tuple([time] + backpack + bots)\n",
    "    if hash in seen:\n",
    "        return seen[hash]\n",
    "\n",
    "    next_backpack = backpack.copy()\n",
    "    next_backpack[0] += bots[0]\n",
    "    next_backpack[1] += bots[1]\n",
    "    next_backpack[2] += bots[2]\n",
    "\n",
    "    res = 0\n",
    "    # buy geode bot\n",
    "    if backpack[0] >= cost_ore[3] and backpack[2] >= cost_obs:\n",
    "        next_backpack[0] -= cost_ore[3]\n",
    "        next_backpack[2] -= cost_obs\n",
    "        bots[3] += 1\n",
    "        res = max(res, bots[3]-1 + get_geodes(time-1, next_backpack, bots))\n",
    "        next_backpack[0] += cost_ore[3]\n",
    "        next_backpack[2] += cost_obs\n",
    "        bots[3] -= 1\n",
    "\n",
    "    else:\n",
    "        # wait\n",
    "        res = max(res,bots[3] + get_geodes(time-1, next_backpack, bots))\n",
    "    \n",
    "        # buy obsidian bot\n",
    "        if backpack[0] >= cost_ore[2] and backpack[1] >= cost_clay:\n",
    "            next_backpack[0] -= cost_ore[2]\n",
    "            next_backpack[1] -= cost_clay\n",
    "            bots[2] += 1\n",
    "            res = max(res, bots[3] + get_geodes(time-1, next_backpack, bots))\n",
    "            next_backpack[0] += cost_ore[2]\n",
    "            next_backpack[1] += cost_clay\n",
    "            bots[2] -= 1\n",
    "        \n",
    "        \n",
    "        # buy ore bot if it will pay for itself and we have at most 4\n",
    "        # if backpack[0] >= cost_ore[0] and time > cost_ore[0] and bots[0] < 4:\n",
    "        if backpack[0] >= cost_ore[0] and bots[0] < 4:\n",
    "            next_backpack[0] -= cost_ore[0]\n",
    "            bots[0] += 1\n",
    "            res = max(res, bots[3] + get_geodes(time-1, next_backpack, bots))\n",
    "            next_backpack[0] += cost_ore[0]\n",
    "            bots[0] -= 1\n",
    "            \n",
    "        # buy clay bot\n",
    "        if backpack[0] >= cost_ore[1]:\n",
    "            next_backpack[0] -= cost_ore[1]\n",
    "            bots[1] += 1\n",
    "            res = max(res, bots[3] + get_geodes(time-1, next_backpack, bots))\n",
    "            next_backpack[0] += cost_ore[1]\n",
    "            bots[1] -= 1\n",
    "            \n",
    "\n",
    "    seen[hash] = res\n",
    "    return res\n",
    "\n"
   ]
  },
  {
   "attachments": {},
   "cell_type": "markdown",
   "metadata": {},
   "source": [
    "# Part 1"
   ]
  },
  {
   "cell_type": "code",
   "execution_count": 9,
   "metadata": {},
   "outputs": [
    {
     "name": "stdout",
     "output_type": "stream",
     "text": [
      "1: Geodes: 0\n",
      "2: Geodes: 9\n",
      "3: Geodes: 3\n",
      "4: Geodes: 1\n",
      "5: Geodes: 5\n",
      "6: Geodes: 0\n",
      "7: Geodes: 1\n",
      "8: Geodes: 3\n",
      "9: Geodes: 7\n",
      "10: Geodes: 0\n",
      "11: Geodes: 2\n",
      "12: Geodes: 5\n",
      "13: Geodes: 4\n",
      "14: Geodes: 1\n",
      "15: Geodes: 0\n",
      "16: Geodes: 0\n",
      "17: Geodes: 2\n",
      "18: Geodes: 1\n",
      "19: Geodes: 3\n",
      "20: Geodes: 1\n",
      "21: Geodes: 1\n",
      "22: Geodes: 1\n",
      "23: Geodes: 0\n",
      "24: Geodes: 5\n",
      "25: Geodes: 7\n",
      "26: Geodes: 1\n",
      "27: Geodes: 0\n",
      "28: Geodes: 0\n",
      "29: Geodes: 6\n",
      "30: Geodes: 5\n"
     ]
    },
    {
     "data": {
      "text/plain": [
       "1115"
      ]
     },
     "execution_count": 9,
     "metadata": {},
     "output_type": "execute_result"
    }
   ],
   "source": [
    "score = 0\n",
    "for n, bp in blueprints.items():\n",
    "    cost_ore = bp[\"ore\"]\n",
    "    cost_clay = bp[\"clay\"]\n",
    "    cost_obs = bp[\"obs\"]\n",
    "\n",
    "    seen = {}\n",
    "    geodes = get_geodes(24, [0,0,0], [1,0,0,0])\n",
    "    print(f'{n}: Geodes: {geodes}')\n",
    "    score += n*geodes\n",
    "\n",
    "score\n"
   ]
  },
  {
   "attachments": {},
   "cell_type": "markdown",
   "metadata": {},
   "source": [
    "# Part 2"
   ]
  },
  {
   "cell_type": "code",
   "execution_count": 8,
   "metadata": {},
   "outputs": [
    {
     "name": "stdout",
     "output_type": "stream",
     "text": [
      "1: Geodes: 16\n",
      "New score: 16\n",
      "2: Geodes: 54\n",
      "New score: 864\n",
      "3: Geodes: 29\n",
      "New score: 25056\n"
     ]
    },
    {
     "data": {
      "text/plain": [
       "25056"
      ]
     },
     "execution_count": 8,
     "metadata": {},
     "output_type": "execute_result"
    }
   ],
   "source": [
    "score = 1\n",
    "for n, bp in blueprints.items():\n",
    "    if n <= 3:\n",
    "        cost_ore = bp[\"ore\"]\n",
    "        cost_clay = bp[\"clay\"]\n",
    "        cost_obs = bp[\"obs\"]\n",
    "\n",
    "        seen = {}\n",
    "        geodes = get_geodes(32, [0,0,0], [1,0,0,0])\n",
    "        print(f'{n}: Geodes: {geodes}')\n",
    "        \n",
    "        score *= geodes\n",
    "        print(f\"New score: {score}\")\n",
    "        # for x,y in dict(sorted(seen.items(), key=lambda item: item[1], reverse=True)[:20]).items():\n",
    "        #     print(f\"seen: {x}: {y}\")\n",
    "        # break\n",
    "\n",
    "score"
   ]
  },
  {
   "cell_type": "code",
   "execution_count": null,
   "metadata": {},
   "outputs": [],
   "source": []
  }
 ],
 "metadata": {
  "kernelspec": {
   "display_name": "lewagon",
   "language": "python",
   "name": "python3"
  },
  "language_info": {
   "codemirror_mode": {
    "name": "ipython",
    "version": 3
   },
   "file_extension": ".py",
   "mimetype": "text/x-python",
   "name": "python",
   "nbconvert_exporter": "python",
   "pygments_lexer": "ipython3",
   "version": "3.10.6"
  },
  "orig_nbformat": 4,
  "vscode": {
   "interpreter": {
    "hash": "9e3810add8eaf207f04a2e3e099bb34c61927853b3f8b08ba72133680f0e19b6"
   }
  }
 },
 "nbformat": 4,
 "nbformat_minor": 2
}
