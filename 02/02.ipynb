{
 "cells": [
  {
   "cell_type": "code",
   "execution_count": 22,
   "metadata": {},
   "outputs": [],
   "source": [
    "with open(\"inp.txt\") as f:\n",
    "    inp = f.read().splitlines()\n",
    "pairs = [x.split(\" \") for x in inp]\n",
    "# pairs"
   ]
  },
  {
   "cell_type": "code",
   "execution_count": 5,
   "metadata": {},
   "outputs": [],
   "source": [
    "class RPS:\n",
    "    def __init__(self, round: list[str,str]):\n",
    "        scores = {\n",
    "            'A':1,\n",
    "            'B':2,\n",
    "            'C':3,\n",
    "            'X':1,\n",
    "            'Y':2,\n",
    "            'Z':3\n",
    "        }\n",
    "        self.opponent = scores[round[0]]\n",
    "        self.you = scores[round[1]]\n",
    "\n",
    "    def compare(self) -> int:\n",
    "        if self.opponent == self.you:\n",
    "            return 3\n",
    "        # RP\n",
    "        if self.opponent == 1 and self.you == 2:\n",
    "            return 6\n",
    "        # RS\n",
    "        if self.opponent == 1 and self.you == 3:\n",
    "            return 0\n",
    "        # PR\n",
    "        if self.opponent == 2 and self.you == 1:\n",
    "            return 0\n",
    "        # PS\n",
    "        if self.opponent == 2 and self.you == 3:\n",
    "            return 6\n",
    "        # SP\n",
    "        if self.opponent == 3 and self.you == 2:\n",
    "            return 0\n",
    "        # SR\n",
    "        if self.opponent == 3 and self.you == 1:\n",
    "            return 6\n",
    "\n",
    "    def score(self) -> int:\n",
    "        return self.you + self.compare()"
   ]
  },
  {
   "cell_type": "code",
   "execution_count": 6,
   "metadata": {},
   "outputs": [
    {
     "data": {
      "text/plain": [
       "9241"
      ]
     },
     "execution_count": 6,
     "metadata": {},
     "output_type": "execute_result"
    }
   ],
   "source": [
    "sum(RPS(round).score() for round in pairs)\n",
    "    \n",
    "\n"
   ]
  },
  {
   "cell_type": "markdown",
   "metadata": {},
   "source": [
    "# Part 2"
   ]
  },
  {
   "cell_type": "code",
   "execution_count": 23,
   "metadata": {},
   "outputs": [],
   "source": [
    "with open(\"inp.txt\") as f:\n",
    "    inp = f.read().splitlines()\n",
    "\n",
    "pairs = [x.split(\" \") for x in inp]\n",
    "# pairs"
   ]
  },
  {
   "cell_type": "code",
   "execution_count": 19,
   "metadata": {},
   "outputs": [],
   "source": [
    "class RPS:\n",
    "    def __init__(self, round: list[str,str]):\n",
    "        scores = {\n",
    "            'A':1,\n",
    "            'B':2,\n",
    "            'C':3,\n",
    "            'X':0,\n",
    "            'Y':3,\n",
    "            'Z':6\n",
    "        }\n",
    "        self.opponent = scores[round[0]]\n",
    "        self.outcome = scores[round[1]]\n",
    "\n",
    "    def compare(self) -> int:\n",
    "        # draw\n",
    "        if self.outcome == 3:\n",
    "            return self.outcome + self.opponent\n",
    "        # lose\n",
    "        if self.outcome == 0:\n",
    "            if self.opponent == 1:\n",
    "                return 3\n",
    "            if self.opponent == 2:\n",
    "                return 1\n",
    "            if self.opponent == 3:\n",
    "                return 2\n",
    "        # win\n",
    "        if self.outcome == 6:\n",
    "            if self.opponent == 1:\n",
    "                return self.outcome + 2\n",
    "            if self.opponent == 2:\n",
    "                return self.outcome + 3\n",
    "            if self.opponent == 3:\n",
    "                return self.outcome + 1\n",
    "\n",
    "    def score(self) -> int:\n",
    "        return self.compare()"
   ]
  },
  {
   "cell_type": "code",
   "execution_count": 27,
   "metadata": {},
   "outputs": [
    {
     "data": {
      "text/plain": [
       "14610"
      ]
     },
     "execution_count": 27,
     "metadata": {},
     "output_type": "execute_result"
    }
   ],
   "source": [
    "with open(\"inp.txt\") as f:\n",
    "    inp = f.read().splitlines()\n",
    "\n",
    "pairs = [x.split(\" \") for x in inp]\n",
    "\n",
    "score_map = {\n",
    "    'A':1,\n",
    "    'B':2,\n",
    "    'C':3,\n",
    "    'X':0,\n",
    "    'Y':3,\n",
    "    'Z':6\n",
    "}\n",
    "\n",
    "def score(round):\n",
    "    opponent = score_map[round[0]]\n",
    "    outcome = score_map[round[1]]\n",
    "    match outcome:\n",
    "        # draw\n",
    "        case 3:\n",
    "            return outcome + opponent\n",
    "        # lose\n",
    "        case 0:\n",
    "            match opponent:\n",
    "                case 1:\n",
    "                    return 3\n",
    "                case 2:\n",
    "                    return 1\n",
    "                case 3:\n",
    "                    return 2\n",
    "        # win\n",
    "        case 6:\n",
    "            match opponent:\n",
    "                case 1:\n",
    "                    return outcome + 2\n",
    "                case 2:\n",
    "                    return outcome + 3\n",
    "                case 3:\n",
    "                    return outcome + 1\n",
    "\n",
    "sum(RPS(round).score() for round in pairs)"
   ]
  },
  {
   "cell_type": "markdown",
   "metadata": {},
   "source": [
    "# OOP approach"
   ]
  },
  {
   "cell_type": "code",
   "execution_count": 10,
   "metadata": {},
   "outputs": [],
   "source": [
    "with open(\"inp.txt\") as f:\n",
    "    inp = f.read().splitlines()\n",
    "\n",
    "pairs = [x.split(\" \") for x in inp]"
   ]
  },
  {
   "cell_type": "code",
   "execution_count": 13,
   "metadata": {},
   "outputs": [
    {
     "name": "stdout",
     "output_type": "stream",
     "text": [
      "9241\n"
     ]
    }
   ],
   "source": [
    "class RPS:\n",
    "    def __init__(self, sign: str):\n",
    "        conv = {\n",
    "            'A':'rock',\n",
    "            'B':'paper',\n",
    "            'C':'scissors',\n",
    "            'X':'rock',\n",
    "            'Y':'paper',\n",
    "            'Z':'scissors'\n",
    "        }\n",
    "        self.sign = conv[sign]\n",
    "\n",
    "    def __eq__(self, other):\n",
    "        \"\"\"Overload ==\"\"\"\n",
    "        if self.sign == other.sign:\n",
    "            return True\n",
    "        return False\n",
    "\n",
    "    def __gt__(self, other):\n",
    "        \"\"\"Overload >\"\"\"\n",
    "        if self.sign == 'rock' and other.sign == 'scissors':\n",
    "            return True\n",
    "        if self.sign == 'scissors' and other.sign == 'paper':\n",
    "            return True\n",
    "        if self.sign == 'paper' and other.sign == 'rock':\n",
    "            return True\n",
    "        return False\n",
    "\n",
    "    def score(self):\n",
    "        scores = {\n",
    "            'rock':1,\n",
    "            'paper':2,\n",
    "            'scissors':3\n",
    "        }\n",
    "        return scores[self.sign]\n",
    "\n",
    "# Part 1\n",
    "total = 0\n",
    "for pair in pairs:\n",
    "    opponent = RPS(pair[0])\n",
    "    you = RPS(pair[1])\n",
    "    if opponent == you:\n",
    "        total += 3\n",
    "    elif you > opponent:\n",
    "        total += 6\n",
    "    total += you.score()\n",
    "print(total)"
   ]
  },
  {
   "cell_type": "code",
   "execution_count": null,
   "metadata": {},
   "outputs": [],
   "source": [
    "opponent = RPS(pair[0])\n",
    "you = opponent + pair[0]"
   ]
  }
 ],
 "metadata": {
  "kernelspec": {
   "display_name": "Python 3.10.6 64-bit ('lewagon')",
   "language": "python",
   "name": "python3"
  },
  "language_info": {
   "codemirror_mode": {
    "name": "ipython",
    "version": 3
   },
   "file_extension": ".py",
   "mimetype": "text/x-python",
   "name": "python",
   "nbconvert_exporter": "python",
   "pygments_lexer": "ipython3",
   "version": "3.10.6"
  },
  "orig_nbformat": 4,
  "vscode": {
   "interpreter": {
    "hash": "9e3810add8eaf207f04a2e3e099bb34c61927853b3f8b08ba72133680f0e19b6"
   }
  }
 },
 "nbformat": 4,
 "nbformat_minor": 2
}
