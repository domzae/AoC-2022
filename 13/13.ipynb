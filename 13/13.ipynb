{
 "cells": [
  {
   "cell_type": "code",
   "execution_count": 1,
   "metadata": {},
   "outputs": [],
   "source": [
    "with open(\"inp.txt\") as f:\n",
    "    inp = [ pair.split() for pair in f.read().split(\"\\n\\n\") ]\n",
    "# inp"
   ]
  },
  {
   "cell_type": "code",
   "execution_count": 2,
   "metadata": {},
   "outputs": [],
   "source": [
    "def compare_actual(left, right):\n",
    "    # int : int\n",
    "    if isinstance(left, int) and isinstance(right, int):\n",
    "        if left < right:\n",
    "            return True\n",
    "        elif right < left:\n",
    "            return False\n",
    "        else:\n",
    "            return None\n",
    "\n",
    "    # list : list\n",
    "    if isinstance(left, list) and isinstance(right, list):\n",
    "        if len(left) == 0 and len(right) == 0:\n",
    "            return None\n",
    "        elif len(left) == 0:\n",
    "            return True # Left ran out\n",
    "        elif len(right) == 0:\n",
    "            return False # Right ran out\n",
    "        else:\n",
    "            return compare_packets(left,right) # We must go deeper\n",
    "\n",
    "    # int : list\n",
    "    if isinstance(left, int):\n",
    "        return compare_actual([left], right)\n",
    "    \n",
    "    # list : int\n",
    "    if isinstance(right, int):\n",
    "        return compare_actual(left, [right])"
   ]
  },
  {
   "cell_type": "code",
   "execution_count": 3,
   "metadata": {},
   "outputs": [],
   "source": [
    "def compare_packets(a,b):\n",
    "    for left, right in zip(a, b):\n",
    "        res = compare_actual(left,right)\n",
    "        if res is not None:\n",
    "            return res\n",
    "\n",
    "    if len(a) < len(b):\n",
    "        return True\n",
    "    elif len(b) < len(a):\n",
    "        return False\n",
    "    else:\n",
    "        return None"
   ]
  },
  {
   "cell_type": "code",
   "execution_count": 4,
   "metadata": {},
   "outputs": [
    {
     "data": {
      "text/plain": [
       "4821"
      ]
     },
     "execution_count": 4,
     "metadata": {},
     "output_type": "execute_result"
    }
   ],
   "source": [
    "correct_order = []\n",
    "for i, pair in enumerate(inp,1):\n",
    "    a = eval(pair[0])\n",
    "    b = eval(pair[1])\n",
    "\n",
    "    if compare_packets(a,b):\n",
    "        correct_order.append(i)\n",
    "\n",
    "# display(correct_order)\n",
    "sum(correct_order)"
   ]
  },
  {
   "cell_type": "markdown",
   "metadata": {},
   "source": [
    "# Part 2"
   ]
  },
  {
   "cell_type": "code",
   "execution_count": 5,
   "metadata": {},
   "outputs": [],
   "source": [
    "def compare_actual(left, right):\n",
    "    # int : int\n",
    "    if isinstance(left, int) and isinstance(right, int):\n",
    "        if left < right:\n",
    "            return -1\n",
    "        elif right < left:\n",
    "            return 1\n",
    "        else:\n",
    "            return 0\n",
    "\n",
    "    # list : list\n",
    "    if isinstance(left, list) and isinstance(right, list):\n",
    "        if len(left) == 0 and len(right) == 0:\n",
    "            return 0\n",
    "        elif len(left) == 0:\n",
    "            return -1  # Left ran out\n",
    "        elif len(right) == 0:\n",
    "            return 1  # Right ran out\n",
    "        else:\n",
    "            return compare_packets(left, right)  # We must go deeper\n",
    "\n",
    "    # int : list\n",
    "    if isinstance(left, int):\n",
    "        return compare_actual([left], right)\n",
    "\n",
    "    # list : int\n",
    "    if isinstance(right, int):\n",
    "        return compare_actual(left, [right])\n",
    "\n",
    "\n",
    "def compare_packets(a, b):\n",
    "    for left, right in zip(a, b):\n",
    "        res = compare_actual(left, right)\n",
    "        if res != 0:\n",
    "            return res\n",
    "\n",
    "    if len(a) < len(b):\n",
    "        return -1\n",
    "    elif len(b) == len(a):\n",
    "        return 0\n",
    "    else:\n",
    "        return 1\n"
   ]
  },
  {
   "cell_type": "code",
   "execution_count": 6,
   "metadata": {},
   "outputs": [],
   "source": [
    "from functools import cmp_to_key"
   ]
  },
  {
   "cell_type": "code",
   "execution_count": 7,
   "metadata": {},
   "outputs": [],
   "source": [
    "with open(\"inp.txt\") as f:\n",
    "    p2 = [eval(x) for x in f.read().split()]\n",
    "p2.append([[2]])\n",
    "p2.append([[6]])\n",
    "# p2 "
   ]
  },
  {
   "cell_type": "code",
   "execution_count": 8,
   "metadata": {},
   "outputs": [],
   "source": [
    "# sorter = lambda a,b: 1 if compare_packets(a,b) else -1\n",
    "p2.sort(key=cmp_to_key(compare_packets))"
   ]
  },
  {
   "cell_type": "code",
   "execution_count": 9,
   "metadata": {},
   "outputs": [
    {
     "data": {
      "text/plain": [
       "21890"
      ]
     },
     "execution_count": 9,
     "metadata": {},
     "output_type": "execute_result"
    }
   ],
   "source": [
    "(p2.index([[2]])+1) * (p2.index([[6]])+1)"
   ]
  },
  {
   "cell_type": "code",
   "execution_count": null,
   "metadata": {},
   "outputs": [],
   "source": []
  }
 ],
 "metadata": {
  "kernelspec": {
   "display_name": "Python 3.10.6 64-bit ('lewagon')",
   "language": "python",
   "name": "python3"
  },
  "language_info": {
   "codemirror_mode": {
    "name": "ipython",
    "version": 3
   },
   "file_extension": ".py",
   "mimetype": "text/x-python",
   "name": "python",
   "nbconvert_exporter": "python",
   "pygments_lexer": "ipython3",
   "version": "3.10.6"
  },
  "orig_nbformat": 4,
  "vscode": {
   "interpreter": {
    "hash": "9e3810add8eaf207f04a2e3e099bb34c61927853b3f8b08ba72133680f0e19b6"
   }
  }
 },
 "nbformat": 4,
 "nbformat_minor": 2
}
