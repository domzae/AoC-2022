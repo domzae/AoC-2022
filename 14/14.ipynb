{
 "cells": [
  {
   "cell_type": "code",
   "execution_count": 1,
   "metadata": {},
   "outputs": [],
   "source": [
    "import numpy as np\n",
    "from itertools import cycle"
   ]
  },
  {
   "attachments": {},
   "cell_type": "markdown",
   "metadata": {},
   "source": [
    "# Part 1"
   ]
  },
  {
   "cell_type": "code",
   "execution_count": 2,
   "metadata": {},
   "outputs": [],
   "source": [
    "with open(\"inp.txt\") as f:\n",
    "    inp = [[y.split(\",\") for y in x.strip().split(\" -> \")] for x in f.readlines()]\n",
    "# inp"
   ]
  },
  {
   "cell_type": "code",
   "execution_count": 3,
   "metadata": {},
   "outputs": [],
   "source": [
    "rocks = []\n",
    "for trace in inp:\n",
    "    for i in range(len(trace)-1):\n",
    "        x,y = list(map(int,trace[i]))\n",
    "        x2,y2 = list(map(int,trace[i+1]))\n",
    "\n",
    "        if x == x2:\n",
    "            if y > y2:\n",
    "                y, y2 = y2, y\n",
    "            rocks += (list(zip(cycle([x]), list(range(y,y2+1)))))\n",
    "        elif y == y2:\n",
    "            if x > x2:\n",
    "                x, x2 = x2, x\n",
    "            rocks += (list(zip(list(range(x, x2+1)), cycle([y]))))\n",
    "        else:\n",
    "            raise Exception(\"diagonal input\")\n",
    "# rocks\n"
   ]
  },
  {
   "cell_type": "code",
   "execution_count": 4,
   "metadata": {},
   "outputs": [
    {
     "data": {
      "text/plain": [
       "(483, 544, 164)"
      ]
     },
     "execution_count": 4,
     "metadata": {},
     "output_type": "execute_result"
    }
   ],
   "source": [
    "min_x = 500\n",
    "max_x = 500\n",
    "max_y = 0\n",
    "for x,y in rocks:\n",
    "    if x > max_x:\n",
    "        max_x = x\n",
    "    elif x < min_x:\n",
    "        min_x = x\n",
    "    if y > max_y:\n",
    "        max_y = y\n",
    "\n",
    "min_x, max_x, max_y"
   ]
  },
  {
   "cell_type": "code",
   "execution_count": 5,
   "metadata": {},
   "outputs": [],
   "source": [
    "def drop_sand(current):\n",
    "    global max_y\n",
    "    global rocks\n",
    "    x,y = current\n",
    "    # check final\n",
    "    if y > max_y:\n",
    "        return False\n",
    "    # check below\n",
    "    if (x,y+1) not in rocks:\n",
    "        return drop_sand((x,y+1))\n",
    "    # check left\n",
    "    if (x-1, y+1) not in rocks:\n",
    "        return drop_sand((x-1,y+1))\n",
    "    # check right\n",
    "    if (x+1, y+1) not in rocks:\n",
    "        return drop_sand((x+1,y+1))\n",
    "    \n",
    "    rocks.append(current)\n",
    "    return current"
   ]
  },
  {
   "cell_type": "code",
   "execution_count": 6,
   "metadata": {},
   "outputs": [],
   "source": [
    "start = (500,0)\n",
    "sand = []\n",
    "while True:\n",
    "    next = drop_sand(start)\n",
    "    if next:\n",
    "        sand.append(next)\n",
    "    else:\n",
    "        break"
   ]
  },
  {
   "cell_type": "code",
   "execution_count": 7,
   "metadata": {},
   "outputs": [
    {
     "data": {
      "text/plain": [
       "614"
      ]
     },
     "execution_count": 7,
     "metadata": {},
     "output_type": "execute_result"
    }
   ],
   "source": [
    "len(sand)"
   ]
  },
  {
   "cell_type": "markdown",
   "metadata": {},
   "source": [
    "# Part 2"
   ]
  },
  {
   "cell_type": "code",
   "execution_count": 8,
   "metadata": {},
   "outputs": [],
   "source": [
    "with open(\"inp.txt\") as f:\n",
    "    inp = [[y.split(\",\") for y in x.strip().split(\" -> \")]\n",
    "           for x in f.readlines()]\n",
    "# inp\n"
   ]
  },
  {
   "cell_type": "code",
   "execution_count": 9,
   "metadata": {},
   "outputs": [],
   "source": [
    "def drop_sand(rocks,current):\n",
    "    global min_x\n",
    "    global max_x\n",
    "    global max_y\n",
    "    x, y = current\n",
    "    # check below\n",
    "    if y+1 not in rocks[x]:\n",
    "        return drop_sand(rocks, (x, y+1))\n",
    "    # check left\n",
    "    if y+1 not in rocks[x-1]:\n",
    "        return drop_sand(rocks, (x-1, y+1))\n",
    "    # check right\n",
    "    if y+1 not in rocks[x+1]:\n",
    "        return drop_sand(rocks, (x+1, y+1))\n",
    "\n",
    "    rocks[x].append(y)\n",
    "\n",
    "    # extend floor\n",
    "    if x - min_x <= 1:\n",
    "        min_x -= 1\n",
    "        rocks[min_x] = [max_y]\n",
    "    if max_x - x <= 1:\n",
    "        max_x += 1\n",
    "        rocks[max_x] = [max_y]\n",
    "    return current\n"
   ]
  },
  {
   "cell_type": "code",
   "execution_count": 10,
   "metadata": {},
   "outputs": [],
   "source": [
    "min_x = 500\n",
    "max_x = 500\n",
    "max_y = 0\n",
    "rocks = {}\n",
    "\n",
    "for trace in inp:\n",
    "    for i in range(len(trace)-1):\n",
    "        x, y = list(map(int,trace[i]))\n",
    "        x2, y2 = list(map(int,trace[i+1]))\n",
    "\n",
    "        if x == x2:\n",
    "            if x not in rocks.keys():\n",
    "                rocks[x] = []\n",
    "            if y > y2:\n",
    "                y, y2 = y2, y\n",
    "            rocks[x] += (list(range(y,y2+1)))\n",
    "        \n",
    "        elif y == y2:\n",
    "            if x > x2:\n",
    "                x, x2 = x2, x\n",
    "            for x_ in range(x, x2+1):\n",
    "                if x_ not in rocks.keys():\n",
    "                    rocks[x_] = []\n",
    "                rocks[x_].append(y)\n",
    "\n",
    "        # check min/max\n",
    "        if x2 > max_x:\n",
    "            max_x = x2\n",
    "        if x < min_x:\n",
    "            min_x = x\n",
    "        if y2 > max_y:\n",
    "            max_y = y2\n",
    "\n",
    "max_y += 2\n",
    "min_x -= 2 # initial padding\n",
    "max_x += 2 # initial padding\\\n",
    "\n",
    "# add floor\n",
    "for x in range(min_x, max_x+1):\n",
    "    if x not in rocks.keys():\n",
    "        rocks[x] = []\n",
    "    rocks[x].append(max_y)\n",
    "\n",
    "# sorted(rocks.items())"
   ]
  },
  {
   "cell_type": "code",
   "execution_count": 11,
   "metadata": {},
   "outputs": [
    {
     "data": {
      "text/plain": [
       "26170"
      ]
     },
     "execution_count": 11,
     "metadata": {},
     "output_type": "execute_result"
    }
   ],
   "source": [
    "start = (500, 0)\n",
    "sand = []\n",
    "while True:\n",
    "    next = drop_sand(rocks, start)\n",
    "    sand.append(next)\n",
    "    if next == start:\n",
    "        break\n",
    "    # if len(sand) % 1000 == 0:\n",
    "    #     print(len(sand))\n",
    "len(sand)"
   ]
  },
  {
   "cell_type": "code",
   "execution_count": null,
   "metadata": {},
   "outputs": [],
   "source": []
  }
 ],
 "metadata": {
  "kernelspec": {
   "display_name": "Python 3.10.6 64-bit ('lewagon')",
   "language": "python",
   "name": "python3"
  },
  "language_info": {
   "codemirror_mode": {
    "name": "ipython",
    "version": 3
   },
   "file_extension": ".py",
   "mimetype": "text/x-python",
   "name": "python",
   "nbconvert_exporter": "python",
   "pygments_lexer": "ipython3",
   "version": "3.10.6 (main, Oct 16 2022, 19:13:14) [Clang 14.0.0 (clang-1400.0.29.201)]"
  },
  "orig_nbformat": 4,
  "vscode": {
   "interpreter": {
    "hash": "9e3810add8eaf207f04a2e3e099bb34c61927853b3f8b08ba72133680f0e19b6"
   }
  }
 },
 "nbformat": 4,
 "nbformat_minor": 2
}
