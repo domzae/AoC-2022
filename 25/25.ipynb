{
 "cells": [
  {
   "cell_type": "code",
   "execution_count": 1,
   "metadata": {},
   "outputs": [
    {
     "data": {
      "text/plain": [
       "''"
      ]
     },
     "execution_count": 1,
     "metadata": {},
     "output_type": "execute_result"
    }
   ],
   "source": [
    "with open(\"inp.txt\") as f:\n",
    "    inp = f.read()\n",
    "inp"
   ]
  },
  {
   "cell_type": "code",
   "execution_count": null,
   "metadata": {},
   "outputs": [],
   "source": [
    "import math\n",
    "\n",
    "with open(\"inp.txt\") as f:\n",
    "  inp = f.read().splitlines()\n",
    "for i,line in enumerate(inp):\n",
    "    inp[i] = [int(x.replace(\"-\",\"-1\").replace(\"=\",\"-2\")) for x in line]\n",
    "\n",
    "nums = []\n",
    "for line in inp:\n",
    "  num = 0\n",
    "  mul = 1\n",
    "  for n in line[::-1]:\n",
    "    num += n * mul\n",
    "    mul *= 5\n",
    "  nums.append(num)\n",
    "\n",
    "decimal = sum(nums)\n",
    "print(decimal)\n",
    "\n",
    "def conv(snafu):\n",
    "    num = 0\n",
    "    mul = 1\n",
    "    for n in snafu[::-1]:\n",
    "      num += n * mul\n",
    "      mul *= 5\n",
    "    return num\n",
    "print(conv([2,0,-1,-2,-2,0,1,-1,2,-1,-2,1,-1,2,-1,-1,-1,1,-1,0]))\n",
    "print(''.join(str([2,0,-1,-2,-2,0,1,-1,2,-1,-2,1,-1,2,-1,-1,-1,1,-1,0])).replace(\"-2\",\"=\").replace(\"-1\",\"-\").replace(\", \",\"\"))\n",
    "      \n",
    "#     return num\n",
    "\n",
    "# n = [0]\n",
    "# while n < decimal:\n",
    "#   # 5 ^ digits  < decimal + 1\n",
    "#   for x in [-2,-1,0,1,2]:\n",
    "#     conv([x] + n)\n",
    "  \n",
    "# snafu = []\n",
    "# mul *= 5\n",
    "# mul *= 5\n",
    "# # mul *= 5\n",
    "\n",
    "# # while decimal > 0:\n",
    "# for _ in range(5):\n",
    "#   print(decimal, mul, (decimal/mul), decimal % mul)\n",
    "  \n",
    "#   cur = decimal / mul\n",
    "#   if cur > 1:\n",
    "#     cur = math.ceil(cur)\n",
    "#   else:\n",
    "#     cur = math.floor(cur)\n",
    "\n",
    "#   excess = 0\n",
    "#   if cur > 2:\n",
    "#     excess = cur - 2\n",
    "#     cur = 2\n",
    "#   elif cur < -2:\n",
    "#     excess = 2 - cur\n",
    "#     cur = -2\n",
    "    \n",
    "  \n",
    "#   snafu.append(cur)\n",
    "#   print(f\"{cur=}\")\n",
    "#   print(snafu)\n",
    "  \n",
    "#   mod = decimal % mul\n",
    "#   print(f\"{mod=}\")\n",
    "#   decimal = mod - (excess*mul)\n",
    "#   print(f\"{decimal=}\")\n",
    "#   mul /= 5\n",
    "#   print(snafu)\n",
    "\n",
    "# print(''.join([str(n).replace(\"-2\",\"=\").replace(\"-1\",\"-\") for n in snafu]))\n",
    "\n",
    "\n",
    "# 3125, 625, 125, 25,  5, 1\n",
    "#    2,  -2,  -1,  1, -2, 0\n",
    "  "
   ]
  },
  {
   "cell_type": "markdown",
   "metadata": {},
   "source": [
    "# Part 2"
   ]
  },
  {
   "cell_type": "code",
   "execution_count": null,
   "metadata": {},
   "outputs": [],
   "source": []
  }
 ],
 "metadata": {
  "kernelspec": {
   "display_name": "Python 3.10.6 64-bit ('lewagon')",
   "language": "python",
   "name": "python3"
  },
  "language_info": {
   "codemirror_mode": {
    "name": "ipython",
    "version": 3
   },
   "file_extension": ".py",
   "mimetype": "text/x-python",
   "name": "python",
   "nbconvert_exporter": "python",
   "pygments_lexer": "ipython3",
   "version": "3.10.6"
  },
  "orig_nbformat": 4,
  "vscode": {
   "interpreter": {
    "hash": "9e3810add8eaf207f04a2e3e099bb34c61927853b3f8b08ba72133680f0e19b6"
   }
  }
 },
 "nbformat": 4,
 "nbformat_minor": 2
}
