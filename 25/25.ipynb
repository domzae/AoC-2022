{
 "cells": [
  {
   "cell_type": "code",
   "execution_count": 1,
   "metadata": {},
   "outputs": [],
   "source": [
    "import math\n",
    "\n",
    "with open(\"inp.txt\") as f:\n",
    "  inp = f.read().splitlines()\n",
    "for i,line in enumerate(inp):\n",
    "    inp[i] = [int(x.replace(\"-\",\"-1\").replace(\"=\",\"-2\")) for x in line]"
   ]
  },
  {
   "cell_type": "code",
   "execution_count": 2,
   "metadata": {},
   "outputs": [],
   "source": [
    "def snafu_to_decimal(snafu):\n",
    "    num = 0\n",
    "    mul = 1\n",
    "    for n in snafu[::-1]:\n",
    "      num += n * mul\n",
    "      mul *= 5\n",
    "    return num"
   ]
  },
  {
   "cell_type": "code",
   "execution_count": 3,
   "metadata": {},
   "outputs": [],
   "source": [
    "decimal = sum([snafu_to_decimal(x) for x in inp])"
   ]
  },
  {
   "cell_type": "code",
   "execution_count": 4,
   "metadata": {},
   "outputs": [
    {
     "name": "stdout",
     "output_type": "stream",
     "text": [
      "[2, 0, -1, -2, -2, 0, 1, -1, 2, -1, -2, 1, -1, 2, -1, -1, -1, 1, -1, 0]\n",
      "20-==01-2-=1-2---1-0\n"
     ]
    }
   ],
   "source": [
    "snafu = [-2] * math.ceil(math.log(decimal, 5))\n",
    "\n",
    "for i in range(len(snafu)):\n",
    "    current = snafu\n",
    "    for v in [-2,-1,0,1,2]:\n",
    "        current[i] = v\n",
    "        if snafu_to_decimal(current) > decimal:\n",
    "            break\n",
    "        snafu = current.copy()\n",
    "    \n",
    "    if snafu_to_decimal(snafu) == decimal:\n",
    "        break\n",
    "\n",
    "print(snafu)\n",
    "print(''.join([str(n).replace(\"-2\",\"=\").replace(\"-1\",\"-\") for n in snafu]))\n",
    "  "
   ]
  }
 ],
 "metadata": {
  "kernelspec": {
   "display_name": "Python 3.10.6 64-bit ('lewagon')",
   "language": "python",
   "name": "python3"
  },
  "language_info": {
   "codemirror_mode": {
    "name": "ipython",
    "version": 3
   },
   "file_extension": ".py",
   "mimetype": "text/x-python",
   "name": "python",
   "nbconvert_exporter": "python",
   "pygments_lexer": "ipython3",
   "version": "3.10.6"
  },
  "orig_nbformat": 4,
  "vscode": {
   "interpreter": {
    "hash": "9e3810add8eaf207f04a2e3e099bb34c61927853b3f8b08ba72133680f0e19b6"
   }
  }
 },
 "nbformat": 4,
 "nbformat_minor": 2
}
