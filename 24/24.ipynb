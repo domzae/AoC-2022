{
 "cells": [
  {
   "cell_type": "code",
   "execution_count": 1,
   "metadata": {},
   "outputs": [],
   "source": [
    "import numpy as np\n",
    "from collections import defaultdict"
   ]
  },
  {
   "cell_type": "code",
   "execution_count": 2,
   "metadata": {},
   "outputs": [
    {
     "data": {
      "text/plain": [
       "array([['#', '.', '#', ..., '#', '#', '#'],\n",
       "       ['#', '.', 'v', ..., '^', '<', '#'],\n",
       "       ['#', '.', '^', ..., '<', '>', '#'],\n",
       "       ...,\n",
       "       ['#', '<', '.', ..., '.', '>', '#'],\n",
       "       ['#', '<', '>', ..., '>', '<', '#'],\n",
       "       ['#', '#', '#', ..., '#', '.', '#']], dtype='<U1')"
      ]
     },
     "execution_count": 2,
     "metadata": {},
     "output_type": "execute_result"
    }
   ],
   "source": [
    "with open(\"inp.txt\") as f:\n",
    "    inp = np.array([list(x) for x in f.read().splitlines()])\n",
    "inp"
   ]
  },
  {
   "cell_type": "code",
   "execution_count": 3,
   "metadata": {},
   "outputs": [],
   "source": [
    "valley = inp.copy()\n",
    "orig_bliz_dict = {}\n",
    "walls = set()\n",
    "for y,row in enumerate(valley):\n",
    "    for x,space in enumerate(row):\n",
    "        if space in (\">\",\"v\",\"<\",\"^\"):\n",
    "            orig_bliz_dict[(x,y)] = [space]\n",
    "        if space == \"#\":\n",
    "            walls.add((x,y))\n",
    "# Add extra wall so we don't leave the valley\n",
    "walls.add((1,-1))\n",
    "walls.add((valley.shape[1] - 2, valley.shape[0]))\n",
    "# orig_bliz_dict"
   ]
  },
  {
   "cell_type": "code",
   "execution_count": 4,
   "metadata": {},
   "outputs": [],
   "source": [
    "directions = {\n",
    "    \">\": lambda x, y: (x+1, y),\n",
    "    \"v\": lambda x, y: (x, y+1),\n",
    "    \"<\": lambda x, y: (x-1, y),\n",
    "    \"^\": lambda x, y: (x, y-1)}\n",
    "\n",
    "\n",
    "def move_blizzards(bliz_dict):\n",
    "    \"\"\"Shifts the blizzards in their direction, wrapping around the valley\"\"\"\n",
    "    new_bliz = defaultdict(list)\n",
    "    for coords, blizzards in bliz_dict.items():\n",
    "        for bliz in blizzards:\n",
    "            x, y = directions[bliz](*coords)\n",
    "            \n",
    "            # Handle wall collisions\n",
    "            if x == valley.shape[1] - 1:\n",
    "                x = 1\n",
    "            elif x == 0:\n",
    "                x = valley.shape[1] - 2\n",
    "            elif y == valley.shape[0] - 1:\n",
    "                y = 1\n",
    "            elif y == 0:\n",
    "                y = valley.shape[0] - 2\n",
    "                \n",
    "            new_bliz[(x,y)].append(bliz)\n",
    "    return new_bliz\n",
    "\n",
    "# Pre-compute all possible blizzard at each minute\n",
    "t_blizzards = defaultdict(set)\n",
    "next = orig_bliz_dict.copy()\n",
    "for i in range(valley.shape[0]*valley.shape[1]):\n",
    "    next = move_blizzards(next)\n",
    "    t_blizzards[i+1] = set(next.keys())\n"
   ]
  },
  {
   "cell_type": "code",
   "execution_count": 5,
   "metadata": {},
   "outputs": [],
   "source": [
    "def adjacent(coords, bliz_dict):\n",
    "    \"\"\"Returns a list of coords of available adjacent spaces\"\"\"\n",
    "    global walls\n",
    "    x, y = coords\n",
    "    available = []\n",
    "    for dx, dy in [(1, 0), (0, 1), (0, 0), (0, -1), (-1, 0)]:\n",
    "        if (x+dx, y+dy) in bliz_dict or (x+dx, y+dy) in walls:\n",
    "            continue\n",
    "        else:\n",
    "            available.append((x+dx, y+dy))\n",
    "\n",
    "    return available\n"
   ]
  },
  {
   "cell_type": "code",
   "execution_count": 6,
   "metadata": {},
   "outputs": [],
   "source": [
    "def expedition(mins, pos, end, offset):\n",
    "    global seen, max_mins\n",
    "    \n",
    "    # Check if we have been in this spot, at this time already\n",
    "    hash = tuple([mins, pos])\n",
    "    if hash in seen:\n",
    "        return seen[hash]\n",
    "    \n",
    "    # Early stop if we have a better score already\n",
    "    if len(seen) > 0 and mins > min(seen.values()):\n",
    "        return np.inf\n",
    "\n",
    "    # Early stop if we won't make it to the end before our arbitrary max minutes\n",
    "    if abs(end[0] - pos[0]) + abs(end[1] - pos[1]) > max_mins - mins:\n",
    "        return np.inf\n",
    "\n",
    "    # Early stop if we reach our maximum minutes\n",
    "    if mins == max_mins:\n",
    "        return np.inf\n",
    "    \n",
    "    # We reached the end of this path!\n",
    "    if pos == end:\n",
    "        return mins\n",
    "\n",
    "    mins += 1\n",
    "\n",
    "    # Get possible moves\n",
    "    possible = adjacent(pos, t_blizzards[mins+offset % len(t_blizzards)])\n",
    "\n",
    "    result = np.inf\n",
    "    if len(possible) > 0:\n",
    "        # Move (or wait)\n",
    "        for coords in possible:\n",
    "            # Recursively explore next possible paths, finding the lowest result\n",
    "            result = min(result, expedition(mins, coords, end, offset))\n",
    "        \n",
    "    # Add our best result from this location\n",
    "    seen[hash] = result\n",
    "    return result\n"
   ]
  },
  {
   "cell_type": "code",
   "execution_count": 8,
   "metadata": {},
   "outputs": [
    {
     "name": "stdout",
     "output_type": "stream",
     "text": [
      "Minutes to complete part 1: 269\n",
      "Minutes to return: 286 (Total: 555)\n",
      "Minutes to end: 270.\n",
      "Minutes to complete part 2: 825.\n"
     ]
    }
   ],
   "source": [
    "seen = {}\n",
    "start = (1,0)\n",
    "end = (valley.shape[1] - 2, valley.shape[0] - 1)\n",
    "max_mins = 300 # arbitrary, but has to be big enough to find at least 1 path\n",
    "\n",
    "total_time = 0\n",
    "total_time += expedition(0, start, end, 0)\n",
    "print(f\"Minutes to complete part 1: {total_time}\")\n",
    "\n",
    "seen = {}    \n",
    "time = expedition(0, end, start, total_time)\n",
    "total_time += time\n",
    "print(f\"Minutes to return: {time} (Total: {total_time})\")\n",
    "\n",
    "seen = {}    \n",
    "time = expedition(0, start, end, total_time)\n",
    "total_time += time\n",
    "print(f\"Minutes to end: {time}.\")\n",
    "print(f\"Minutes to complete part 2: {total_time}.\")\n"
   ]
  },
  {
   "cell_type": "code",
   "execution_count": null,
   "metadata": {},
   "outputs": [],
   "source": []
  }
 ],
 "metadata": {
  "kernelspec": {
   "display_name": "lewagon_current",
   "language": "python",
   "name": "python3"
  },
  "language_info": {
   "codemirror_mode": {
    "name": "ipython",
    "version": 3
   },
   "file_extension": ".py",
   "mimetype": "text/x-python",
   "name": "python",
   "nbconvert_exporter": "python",
   "pygments_lexer": "ipython3",
   "version": "3.10.6"
  },
  "orig_nbformat": 4,
  "vscode": {
   "interpreter": {
    "hash": "534aae4c1dc217d2924621fa27fa919d5c174f30e55511d73d4cb79678b4a271"
   }
  }
 },
 "nbformat": 4,
 "nbformat_minor": 2
}
