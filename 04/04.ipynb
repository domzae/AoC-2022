{
 "cells": [
  {
   "cell_type": "code",
   "execution_count": 5,
   "metadata": {},
   "outputs": [],
   "source": [
    "import numpy as np"
   ]
  },
  {
   "cell_type": "code",
   "execution_count": 34,
   "metadata": {},
   "outputs": [],
   "source": [
    "with open(\"inp.txt\") as f:\n",
    "    inp = f.read().splitlines()\n",
    "# inp"
   ]
  },
  {
   "cell_type": "code",
   "execution_count": 35,
   "metadata": {},
   "outputs": [
    {
     "data": {
      "text/plain": [
       "array([[[24, 66],\n",
       "        [23, 25]],\n",
       "\n",
       "       [[ 3,  3],\n",
       "        [ 2, 80]],\n",
       "\n",
       "       [[14, 80],\n",
       "        [13, 20]],\n",
       "\n",
       "       ...,\n",
       "\n",
       "       [[13, 79],\n",
       "        [14, 50]],\n",
       "\n",
       "       [[ 2,  3],\n",
       "        [ 5, 87]],\n",
       "\n",
       "       [[18, 77],\n",
       "        [18, 76]]])"
      ]
     },
     "execution_count": 35,
     "metadata": {},
     "output_type": "execute_result"
    }
   ],
   "source": [
    "pairs = np.array([[rg.split('-') for rg in pair.split(',')] for pair in inp]).astype(int)\n",
    "pairs"
   ]
  },
  {
   "cell_type": "code",
   "execution_count": 20,
   "metadata": {},
   "outputs": [
    {
     "data": {
      "text/plain": [
       "518"
      ]
     },
     "execution_count": 20,
     "metadata": {},
     "output_type": "execute_result"
    }
   ],
   "source": [
    "count = 0\n",
    "for pair in pairs:\n",
    "    if min(pair[0]) <= min(pair[1]) and max(pair[0]) >= max(pair[1]):\n",
    "        count += 1\n",
    "    elif min(pair[1]) <= min(pair[0]) and max(pair[1]) >= max(pair[0]):\n",
    "        count += 1\n",
    "count\n",
    "        "
   ]
  },
  {
   "cell_type": "markdown",
   "metadata": {},
   "source": [
    "# Part 2"
   ]
  },
  {
   "cell_type": "code",
   "execution_count": 36,
   "metadata": {},
   "outputs": [
    {
     "data": {
      "text/plain": [
       "909"
      ]
     },
     "execution_count": 36,
     "metadata": {},
     "output_type": "execute_result"
    }
   ],
   "source": [
    "count = 0\n",
    "for pair in pairs:\n",
    "    if pair[0][0] <= pair[1][1] and pair[1][0] <= pair[0][1]:\n",
    "        count += 1\n",
    "count\n",
    "        "
   ]
  },
  {
   "cell_type": "code",
   "execution_count": null,
   "metadata": {},
   "outputs": [],
   "source": []
  }
 ],
 "metadata": {
  "interpreter": {
   "hash": "534aae4c1dc217d2924621fa27fa919d5c174f30e55511d73d4cb79678b4a271"
  },
  "kernelspec": {
   "display_name": "Python 3.10.6 64-bit ('lewagon_current')",
   "language": "python",
   "name": "python3"
  },
  "language_info": {
   "codemirror_mode": {
    "name": "ipython",
    "version": 3
   },
   "file_extension": ".py",
   "mimetype": "text/x-python",
   "name": "python",
   "nbconvert_exporter": "python",
   "pygments_lexer": "ipython3",
   "version": "3.10.6"
  },
  "orig_nbformat": 4,
  "vscode": {
   "interpreter": {
    "hash": "9e3810add8eaf207f04a2e3e099bb34c61927853b3f8b08ba72133680f0e19b6"
   }
  }
 },
 "nbformat": 4,
 "nbformat_minor": 2
}
