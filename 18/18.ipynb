{
 "cells": [
  {
   "cell_type": "code",
   "execution_count": 1,
   "metadata": {},
   "outputs": [],
   "source": [
    "import numpy as np"
   ]
  },
  {
   "cell_type": "code",
   "execution_count": 2,
   "metadata": {},
   "outputs": [],
   "source": [
    "with open(\"inp.txt\") as f:\n",
    "    inp = {tuple(map(int,x.split(\",\"))) for x in f.read().split()}\n",
    "# inp"
   ]
  },
  {
   "attachments": {},
   "cell_type": "markdown",
   "metadata": {},
   "source": [
    "# Part 1"
   ]
  },
  {
   "cell_type": "code",
   "execution_count": 3,
   "metadata": {},
   "outputs": [],
   "source": [
    "droplet = np.zeros((20,20,20), np.int8)\n",
    "\n",
    "for cube in inp:\n",
    "    droplet[cube] = 1"
   ]
  },
  {
   "cell_type": "code",
   "execution_count": 4,
   "metadata": {},
   "outputs": [
    {
     "data": {
      "text/plain": [
       "3494"
      ]
     },
     "execution_count": 4,
     "metadata": {},
     "output_type": "execute_result"
    }
   ],
   "source": [
    "surface = sum([np.count_nonzero(np.diff(droplet,1,axis,0,append=0)) for axis in [0,1,2]])\n",
    "surface"
   ]
  },
  {
   "cell_type": "markdown",
   "metadata": {},
   "source": [
    "# Part 2"
   ]
  },
  {
   "cell_type": "code",
   "execution_count": 5,
   "metadata": {},
   "outputs": [],
   "source": [
    "with open(\"inp.txt\") as f:\n",
    "    inp = {tuple(map(int,x.split(\",\"))) for x in f.read().split()}\n",
    "# inp"
   ]
  },
  {
   "cell_type": "code",
   "execution_count": 6,
   "metadata": {},
   "outputs": [],
   "source": [
    "droplet = np.zeros((20,20,20), np.int8)\n",
    "\n",
    "for cube in inp:\n",
    "    droplet[cube] = 3"
   ]
  },
  {
   "cell_type": "code",
   "execution_count": 7,
   "metadata": {},
   "outputs": [],
   "source": [
    "stack = [(0, 0, 0)]\n",
    "while stack:\n",
    "    x, y, z = stack.pop()\n",
    "    if x+1 < 20 and droplet[x+1, y, z] == 0:\n",
    "        droplet[x+1, y, z] = 1\n",
    "        stack.append((x+1, y, z))\n",
    "    if x-1 >= 0 and droplet[x-1, y, z] == 0:\n",
    "        droplet[x-1, y, z] = 1\n",
    "        stack.append((x-1, y, z))\n",
    "    if y+1 < 20 and droplet[x, y+1, z] == 0:\n",
    "        droplet[x, y+1, z] = 1\n",
    "        stack.append((x, y+1, z))\n",
    "    if y-1 >= 0 and droplet[x, y-1, z] == 0:\n",
    "        droplet[x, y-1, z] = 1\n",
    "        stack.append((x, y-1, z))\n",
    "    if z+1 < 20 and droplet[x, y, z+1] == 0:\n",
    "        droplet[x, y, z+1] = 1\n",
    "        stack.append((x, y, z+1))\n",
    "    if z-1 >= 0 and droplet[x, y, z-1] == 0:\n",
    "        droplet[x, y, z-1] = 1\n",
    "        stack.append((x, y, z-1))\n"
   ]
  },
  {
   "cell_type": "code",
   "execution_count": 8,
   "metadata": {},
   "outputs": [
    {
     "data": {
      "text/plain": [
       "2062"
      ]
     },
     "execution_count": 8,
     "metadata": {},
     "output_type": "execute_result"
    }
   ],
   "source": [
    "sum([np.count_nonzero(abs(np.diff(droplet, 1, axis, 1, 1)) == 2) for axis in [0, 1, 2]])"
   ]
  }
 ],
 "metadata": {
  "kernelspec": {
   "display_name": "lewagon_current",
   "language": "python",
   "name": "python3"
  },
  "language_info": {
   "codemirror_mode": {
    "name": "ipython",
    "version": 3
   },
   "file_extension": ".py",
   "mimetype": "text/x-python",
   "name": "python",
   "nbconvert_exporter": "python",
   "pygments_lexer": "ipython3",
   "version": "3.10.6"
  },
  "orig_nbformat": 4,
  "vscode": {
   "interpreter": {
    "hash": "534aae4c1dc217d2924621fa27fa919d5c174f30e55511d73d4cb79678b4a271"
   }
  }
 },
 "nbformat": 4,
 "nbformat_minor": 2
}
