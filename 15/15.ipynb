{
 "cells": [
  {
   "cell_type": "code",
   "execution_count": 1,
   "metadata": {},
   "outputs": [],
   "source": [
    "import regex as re"
   ]
  },
  {
   "cell_type": "code",
   "execution_count": 2,
   "metadata": {},
   "outputs": [],
   "source": [
    "with open(\"inp.txt\") as f:\n",
    "    inp = [re.findall(r'-?\\d+', x) for x in f.readlines()]\n",
    "    inp = [list(map(int, x)) for x in inp]\n",
    "# inp\n"
   ]
  },
  {
   "attachments": {},
   "cell_type": "markdown",
   "metadata": {},
   "source": [
    "# Part 1"
   ]
  },
  {
   "cell_type": "code",
   "execution_count": 3,
   "metadata": {},
   "outputs": [],
   "source": [
    "with open(\"inp.txt\") as f:\n",
    "    inp = [re.findall(r'-?\\d+', x) for x in f.readlines()]\n",
    "    inp = [list(map(int, x)) for x in inp]\n",
    "# inp\n"
   ]
  },
  {
   "cell_type": "code",
   "execution_count": 4,
   "metadata": {},
   "outputs": [
    {
     "data": {
      "text/plain": [
       "6124805"
      ]
     },
     "execution_count": 4,
     "metadata": {},
     "output_type": "execute_result"
    }
   ],
   "source": [
    "covered = set()\n",
    "# ROW = 10\n",
    "ROW = 2000000\n",
    "\n",
    "for sx, sy, bx, by in inp:\n",
    "    distance = abs(sx - bx) + abs(sy - by)\n",
    "\n",
    "    for i in range(distance+1):\n",
    "        if sy + i == ROW:\n",
    "            covered.update(range(sx-distance+i, sx+distance-i+1))\n",
    "        elif sy - i == ROW:\n",
    "            covered.update(range(sx-distance+i, sx+distance-i+1))\n",
    "\n",
    "len(covered) - 1"
   ]
  },
  {
   "cell_type": "markdown",
   "metadata": {},
   "source": [
    "# Part 2"
   ]
  },
  {
   "cell_type": "code",
   "execution_count": 5,
   "metadata": {},
   "outputs": [],
   "source": [
    "with open(\"inp.txt\") as f:\n",
    "    inp = [re.findall(r'-?\\d+', x) for x in f.readlines()]\n",
    "    inp = [list(map(int, x)) for x in inp]\n",
    "# inp\n"
   ]
  },
  {
   "cell_type": "code",
   "execution_count": 6,
   "metadata": {},
   "outputs": [],
   "source": [
    "MIN = 0\n",
    "# MAX = 20\n",
    "MAX = 4000000\n",
    "perimeter = {}\n",
    "\n",
    "for sx, sy, bx, by in inp:\n",
    "    distance = abs(sx - bx) + abs(sy - by)\n",
    "    for i in range(distance+1):\n",
    "        min_dist = max(sx-distance+i, 0)\n",
    "        max_dist = min(sx+distance-i+1, MAX)\n",
    "        coords = [min_dist, max_dist]\n",
    "        y = sy + i\n",
    "        if MIN <= y < MAX:\n",
    "            if y not in perimeter.keys():\n",
    "                perimeter[y] = set([min_dist, max_dist])\n",
    "            else:\n",
    "                perimeter[y].add(min_dist)\n",
    "                perimeter[y].add(max_dist)\n",
    "        if i > 0:\n",
    "            y2 = sy - i\n",
    "            if MIN <= y2 < MAX:\n",
    "                if y2 not in perimeter.keys():\n",
    "                    perimeter[y2] = set([min_dist, max_dist])\n",
    "                else:\n",
    "                    perimeter[y2].add(min_dist)\n",
    "                    perimeter[y2].add(max_dist)\n"
   ]
  },
  {
   "cell_type": "code",
   "execution_count": 9,
   "metadata": {},
   "outputs": [
    {
     "name": "stdout",
     "output_type": "stream",
     "text": [
      "0k..100k..200k..300k..400k..500k..600k..\n",
      "x=3138881, y=3364986\n",
      "12555527364986\n"
     ]
    }
   ],
   "source": [
    "end = False\n",
    "for i, (y,x_) in enumerate(perimeter.items()):\n",
    "    if i % 100_000 == 0:\n",
    "        print(f\"{i//1000}k\", end=\"..\")\n",
    "    for x in x_:\n",
    "        for sx, sy, bx, by in inp:\n",
    "            max_distance = abs(sx - bx) + abs(sy - by)\n",
    "            cur_distance = abs(sx - x) + abs(sy - y)\n",
    "            if cur_distance <= max_distance:\n",
    "                break\n",
    "        else:\n",
    "            print(f\"\\n{x=}, {y=}\")\n",
    "            print(4000000 * x + y)\n",
    "            end=True\n",
    "            break\n",
    "    if end:\n",
    "        break\n",
    "\n"
   ]
  }
 ],
 "metadata": {
  "kernelspec": {
   "display_name": "Python 3.10.6 64-bit ('lewagon')",
   "language": "python",
   "name": "python3"
  },
  "language_info": {
   "codemirror_mode": {
    "name": "ipython",
    "version": 3
   },
   "file_extension": ".py",
   "mimetype": "text/x-python",
   "name": "python",
   "nbconvert_exporter": "python",
   "pygments_lexer": "ipython3",
   "version": "3.10.6"
  },
  "orig_nbformat": 4,
  "vscode": {
   "interpreter": {
    "hash": "9e3810add8eaf207f04a2e3e099bb34c61927853b3f8b08ba72133680f0e19b6"
   }
  }
 },
 "nbformat": 4,
 "nbformat_minor": 2
}
