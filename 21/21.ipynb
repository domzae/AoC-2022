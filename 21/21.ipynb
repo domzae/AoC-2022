{
 "cells": [
  {
   "cell_type": "code",
   "execution_count": 1,
   "metadata": {},
   "outputs": [],
   "source": [
    "from collections import deque"
   ]
  },
  {
   "cell_type": "code",
   "execution_count": 2,
   "metadata": {},
   "outputs": [],
   "source": [
    "with open(\"inp.txt\") as f:\n",
    "    inp = [x.replace(\":\",\" =\") for x in f.read().split(\"\\n\")][:-1]\n",
    "# inp"
   ]
  },
  {
   "cell_type": "code",
   "execution_count": 3,
   "metadata": {},
   "outputs": [
    {
     "name": "stdout",
     "output_type": "stream",
     "text": [
      "121868120894282.0\n"
     ]
    }
   ],
   "source": [
    "monkeys = deque(sorted(inp, key=lambda x: len(x)))\n",
    "\n",
    "while monkeys:\n",
    "    try:\n",
    "        exec(monkeys[0])\n",
    "        monkeys.popleft()\n",
    "    except NameError:\n",
    "        monkeys.rotate(-1)\n",
    "\n",
    "print(root)\n"
   ]
  },
  {
   "cell_type": "markdown",
   "metadata": {},
   "source": [
    "# Part 2"
   ]
  },
  {
   "cell_type": "code",
   "execution_count": 4,
   "metadata": {},
   "outputs": [],
   "source": [
    "with open(\"inp.txt\") as f:\n",
    "    inp = {a[:-1]:b for a,*b in [x.split() for x in f.read().split(\"\\n\")][:-1]}\n",
    "\n",
    "for k,v in inp.items():\n",
    "    if len(v) == 1:\n",
    "        inp[k] = int(v[0])\n",
    "inp[\"humn\"] = \"humn\"\n",
    "\n",
    "root = inp.pop(\"root\")\n",
    "root = [root[0],root[2]]\n",
    "# inp"
   ]
  },
  {
   "cell_type": "code",
   "execution_count": 5,
   "metadata": {},
   "outputs": [],
   "source": [
    "try_again = True\n",
    "while try_again:\n",
    "    try_again = False\n",
    "    for k, v in inp.items():\n",
    "        if isinstance(v,list):\n",
    "            if isinstance(v[0],str):\n",
    "                if isinstance(inp[v[0]],int):\n",
    "                    key = v[0]\n",
    "                    inp[k][0] = inp[v[0]]\n",
    "                    try_again = True\n",
    "            if isinstance(v[2],str):\n",
    "                if isinstance(inp[v[2]],int):\n",
    "                    key = v[2]\n",
    "                    inp[k][2] = inp[v[2]]\n",
    "                    try_again = True\n",
    "            if isinstance(v[0],int) and isinstance(v[2],int):\n",
    "                inp[k] = eval(f\"{v[0]}{v[1]}{v[2]}\")\n",
    "                try_again = True\n",
    "                continue\n",
    "    \n",
    "left = inp[root[0]] if isinstance(inp[root[0]],int) else inp[root[1]]\n",
    "\n",
    "# inp\n"
   ]
  },
  {
   "cell_type": "code",
   "execution_count": 6,
   "metadata": {},
   "outputs": [],
   "source": [
    "for k,ls in inp.items():\n",
    "    if isinstance(ls,list):\n",
    "        for i in range(len(ls)):\n",
    "            if isinstance(ls[i],str) and len(ls[i]) == 4:\n",
    "                if ls[i] != \"humn\":\n",
    "                    ls[i] = inp[ls[i]]\n",
    "# inp"
   ]
  },
  {
   "cell_type": "code",
   "execution_count": 7,
   "metadata": {},
   "outputs": [],
   "source": [
    "if root[0] in inp.keys():\n",
    "    right = str(inp[root[0]])\n",
    "elif root[1] in inp.keys():\n",
    "    right = str(inp[root[1]])"
   ]
  },
  {
   "cell_type": "code",
   "execution_count": 8,
   "metadata": {},
   "outputs": [
    {
     "data": {
      "text/plain": [
       "'(((2 * (((2 * (2 * ((((3398 * ((((((45 + (58 + (43.0 * 2))) + 44) * 14) + 3075) * ((45.0 + 13) / 2)) + 2140404)) + (((5 * (((832 - (7 * (2 * 11.0))) + (2 * 254.0)) - 239)) + ((17 + ((((78 + (19 * (34.0 / 2))) * 155) / 5) - 2457)) - ((5 * (316 + (((61.0 + 2) + 28) * 7))) / 5))) * ((15 * ((1830 + (436 + ((303.0 - 2) / 7))) * 3)) + ((((426 + (((18.0 + 25) * 6) - 77)) - 144) * 281) + ((19 * (2 * (439.0 + 108))) + (3 * (2608.0 + (656 + (((((((22 + 13.0) / 5) * 163) + 1699) + 741) + ((97 - (6 + (8.0 * 3))) * 51)) + (17 * (36 + ((413 / 7.0) + 2)))))))))))) * 43) - ((((1273 * (14 + 15.0)) * (((241.0 * (((((23.0 * 2) / 2) * 4) * 20) / 4)) - 30151) / 3)) + ((7412 * (((((10 * ((7161 + (2 * (((87 + (2 * ((2 * ((52.0 / 4) * 3)) + 19))) + 703) - 167))) / 5)) + (((2 + ((62 + (((9 + 72.0) + 70) - 41)) + 5)) + 544) * 111)) * 2) - 52173) + (3689 + (3539 + (((((((7 * 7.0) * 13) + 2507) / 2) + 370) - (91 + (27 + ((15.0 + 11.0) + 47)))) * 2))))) + (28340 * (18930 + (59 * (42 + 121.0)))))) * 2)))) * 44.0) - (4 * (((((((668 + (((((((((((169 - (35.0 + 18)) / 2) - 15) + 20) * 13) + (((((7 * ((25.0 * 37) / 5)) - 400) + ((199 + ((149 + ((((3 * (((((2640.0 / 8) + ((((75.0 + 120) + ((2 * (((2 * ((2 * (8 + ((12.0 * 18) / 4))) - 27)) / 2) + 10.0)) / 2)) + 323) + (3 * (((((470 + (26 * (((((8 + (85 + (2 * 23.0))) + 88) + (3 * ((((((4 * (825 + (2 * ((((7.0 + 4) * 73) + 185) + (((((((((957 + ((2 * ((48 * (((31.0 + 16) * 3) + ((humn - (5 * (((2 * 23.0) * 2) - 9))) / 2))) - 556)) + ((64 + ((3 * 7.0) + 46)) * 5))) / 4) + 782) + 566) / 3) - 843) * 2) - ((23.0 + 11) * 15)) / 2))))) - (111 + (183 + ((15 + 142.0) * 2)))) / 11) - (588 + (((43 + ((22.0 - 7) + 9)) * 3) + 9))) / 2) + ((((((23.0 * 7) * 2) + 27) - (((12.0 * 3) + 47) + 33)) * 4) + 49)))) / 11) - ((6 * (11 + (6.0 * 5))) + ((3 + ((2 * 13.0) * 4)) + 14))))) * 2) - (1092 - (60 + (78 + 59.0)))) / 3) - (31.0 * 5))))) + 761) / 12) - (3 * (5 * ((14.0 + 15) + 14))))) + ((((((23.0 + 9) * 2) + (((2 * ((14.0 + 15) * 2)) / 4) * 3)) * 2) + (7 + (((4 + 6.0) + 3) * 4))) + (161 - ((7.0 * 4) + 15)))) / 5) - 231)) / 2)) * 6)) * 4) - 273)) / 2) + 861) * 3) - 691) / 5)) / 9) - 141) * (((23.0 * 2) + 106) / 8)) - (((74.0 + 23) * 5) * 2)) / 2) + 375)))) + 154) / 2)-(((((1183 + ((10.0 * 3) * 17)) + ((7.0 + 50) * 32)) * 57) + ((594 * ((2 * ((206 + (37.0 + 31.0)) / 2)) + ((2 * (18 + (8.0 + 3))) + 79))) + 29008)) * ((((((2 * (42.0 + 47)) + ((16 + 13.0) + 15)) * 339) + ((19 * ((2 * (((((41 + ((2 * 7.0) * 52)) * 2) + (25 * 71.0)) - 928) + 1142)) / 2)) + (22015 + ((2 * ((((((126 - (61.0 - 20)) + 39) * 4) + 105) * 5) + 17112)) / 2)))) * ((29.0 + ((1 + 26.0) * 4)) * 2)) + 18841529))'"
      ]
     },
     "execution_count": 8,
     "metadata": {},
     "output_type": "execute_result"
    }
   ],
   "source": [
    "def replacements(s):\n",
    "    return s.replace(\"[\", \"(\").replace(\"'\", \"\").replace(\"]\", \")\").replace(\",\", \"\")\n",
    "eq = replacements(right) + \"-\" + replacements(str(left))\n",
    "eq"
   ]
  },
  {
   "cell_type": "code",
   "execution_count": 9,
   "metadata": {},
   "outputs": [],
   "source": [
    "from sympy.solvers import solve\n",
    "from sympy import Symbol"
   ]
  },
  {
   "cell_type": "code",
   "execution_count": 11,
   "metadata": {},
   "outputs": [
    {
     "data": {
      "text/plain": [
       "3582317956029"
      ]
     },
     "execution_count": 11,
     "metadata": {},
     "output_type": "execute_result"
    }
   ],
   "source": [
    "humn = Symbol('humn')\n",
    "int(solve(eq, humn)[0])"
   ]
  }
 ],
 "metadata": {
  "kernelspec": {
   "display_name": "Python 3.10.6 64-bit ('lewagon')",
   "language": "python",
   "name": "python3"
  },
  "language_info": {
   "codemirror_mode": {
    "name": "ipython",
    "version": 3
   },
   "file_extension": ".py",
   "mimetype": "text/x-python",
   "name": "python",
   "nbconvert_exporter": "python",
   "pygments_lexer": "ipython3",
   "version": "3.10.6 (main, Oct 16 2022, 19:13:14) [Clang 14.0.0 (clang-1400.0.29.201)]"
  },
  "orig_nbformat": 4,
  "vscode": {
   "interpreter": {
    "hash": "9e3810add8eaf207f04a2e3e099bb34c61927853b3f8b08ba72133680f0e19b6"
   }
  }
 },
 "nbformat": 4,
 "nbformat_minor": 2
}
