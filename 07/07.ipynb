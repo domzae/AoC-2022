{
 "cells": [
  {
   "cell_type": "code",
   "execution_count": 1,
   "metadata": {},
   "outputs": [],
   "source": [
    "with open(\"inp.txt\") as f:\n",
    "    inp = [x.strip() for x in f.readlines()]"
   ]
  },
  {
   "attachments": {},
   "cell_type": "markdown",
   "metadata": {},
   "source": [
    "# Part 1"
   ]
  },
  {
   "cell_type": "code",
   "execution_count": 2,
   "metadata": {},
   "outputs": [],
   "source": [
    "def parse_directory(curr_dir, cmds):\n",
    "    global dirs\n",
    "    dirsize = 0\n",
    "    while True:\n",
    "        try:\n",
    "            inp_1, inp_2 = next(cmds).strip().rsplit(\" \", 1)\n",
    "        except:\n",
    "            dirs[curr_dir] = dirsize\n",
    "            curr_dir = curr_dir.rsplit(\"/\", 1)[0]\n",
    "            return curr_dir, cmds, dirsize\n",
    "        if inp_1 in (\"$\", \"dir\"):\n",
    "            continue\n",
    "        elif inp_1 == \"$ cd\":\n",
    "            if inp_2 == \"..\":\n",
    "                dirs[curr_dir] = dirsize\n",
    "                curr_dir = curr_dir.rsplit(\"/\", 1)[0]\n",
    "                return curr_dir, cmds, dirsize\n",
    "            else:\n",
    "                curr_dir += \"/\" + inp_2\n",
    "                curr_dir, cmds, int_dirsize = parse_directory(curr_dir, cmds)\n",
    "                dirsize += int_dirsize\n",
    "        else:\n",
    "            dirsize += int(inp_1)"
   ]
  },
  {
   "cell_type": "code",
   "execution_count": 3,
   "metadata": {},
   "outputs": [
    {
     "data": {
      "text/plain": [
       "1644735"
      ]
     },
     "execution_count": 3,
     "metadata": {},
     "output_type": "execute_result"
    }
   ],
   "source": [
    "\n",
    "commands = iter(inp[1:])\n",
    "dirs = {}\n",
    "dirs[\"start\"] = parse_directory(\"start\", commands)[2]\n",
    "\n",
    "sum([size for size in dirs.values() if size <= 100_000])"
   ]
  },
  {
   "cell_type": "markdown",
   "metadata": {},
   "source": [
    "# Part 2"
   ]
  },
  {
   "cell_type": "code",
   "execution_count": 4,
   "metadata": {},
   "outputs": [
    {
     "data": {
      "text/plain": [
       "1300850"
      ]
     },
     "execution_count": 4,
     "metadata": {},
     "output_type": "execute_result"
    }
   ],
   "source": [
    "min([size for size in dirs.values() if size + (70_000_000 - dirs[\"start\"]) >= 30_000_000])"
   ]
  },
  {
   "cell_type": "code",
   "execution_count": null,
   "metadata": {},
   "outputs": [],
   "source": []
  }
 ],
 "metadata": {
  "kernelspec": {
   "display_name": "Python 3.10.6 64-bit ('lewagon')",
   "language": "python",
   "name": "python3"
  },
  "language_info": {
   "codemirror_mode": {
    "name": "ipython",
    "version": 3
   },
   "file_extension": ".py",
   "mimetype": "text/x-python",
   "name": "python",
   "nbconvert_exporter": "python",
   "pygments_lexer": "ipython3",
   "version": "3.10.6"
  },
  "orig_nbformat": 4,
  "vscode": {
   "interpreter": {
    "hash": "9e3810add8eaf207f04a2e3e099bb34c61927853b3f8b08ba72133680f0e19b6"
   }
  }
 },
 "nbformat": 4,
 "nbformat_minor": 2
}
