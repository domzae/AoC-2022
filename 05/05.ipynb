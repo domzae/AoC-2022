{
 "cells": [
  {
   "cell_type": "code",
   "execution_count": 1,
   "metadata": {},
   "outputs": [],
   "source": [
    "import regex as re\n",
    "import copy"
   ]
  },
  {
   "cell_type": "code",
   "execution_count": 2,
   "metadata": {},
   "outputs": [
    {
     "data": {
      "text/plain": [
       "{'1': ['Q', 'S', 'W', 'C', 'Z', 'V', 'F', 'T'],\n",
       " '2': ['Q', 'R', 'B'],\n",
       " '3': ['B', 'Z', 'T', 'Q', 'P', 'M', 'S'],\n",
       " '4': ['D', 'V', 'F', 'R', 'Q', 'H'],\n",
       " '5': ['J', 'G', 'L', 'D', 'B', 'S', 'T', 'P'],\n",
       " '6': ['W', 'R', 'T', 'Z'],\n",
       " '7': ['H', 'Q', 'M', 'N', 'S', 'F', 'R', 'J'],\n",
       " '8': ['R', 'N', 'F', 'H', 'W'],\n",
       " '9': ['J', 'Z', 'T', 'Q', 'P', 'R', 'B']}"
      ]
     },
     "execution_count": 2,
     "metadata": {},
     "output_type": "execute_result"
    }
   ],
   "source": [
    "with open(\"inp.txt\") as f:\n",
    "    crates, commands = f.read().split(\"\\n\\n\")\n",
    "crates = crates.splitlines()\n",
    "commands = commands.splitlines()\n",
    "\n",
    "crates = [ line[1::4] for line in crates]\n",
    "crate_dict = {}\n",
    "for stack in crates[-1]:\n",
    "    crate_dict[stack] = []\n",
    "    for n in crates[:-1]:\n",
    "        try:\n",
    "            if n[int(stack)-1] != ' ':\n",
    "                crate_dict[stack].insert(0,n[int(stack)-1])\n",
    "        except:\n",
    "            continue\n",
    "crate_dict"
   ]
  },
  {
   "attachments": {},
   "cell_type": "markdown",
   "metadata": {},
   "source": [
    "# Part 1"
   ]
  },
  {
   "cell_type": "code",
   "execution_count": 3,
   "metadata": {},
   "outputs": [
    {
     "name": "stdout",
     "output_type": "stream",
     "text": [
      "BZLVHBWQF\n"
     ]
    }
   ],
   "source": [
    "d = copy.deepcopy(crate_dict)\n",
    "for command in commands:\n",
    "    mv, fr, to = re.findall(r'\\d+', command)\n",
    "    \n",
    "    for i in range(int(mv)):\n",
    "        d[to].append(d[fr].pop())\n",
    "\n",
    "out = ''\n",
    "for l in d.values():\n",
    "    out += l[-1]\n",
    "print(out)"
   ]
  },
  {
   "cell_type": "markdown",
   "metadata": {},
   "source": [
    "# Part 2"
   ]
  },
  {
   "cell_type": "code",
   "execution_count": 4,
   "metadata": {},
   "outputs": [
    {
     "name": "stdout",
     "output_type": "stream",
     "text": [
      "TDGJQTZSL\n"
     ]
    }
   ],
   "source": [
    "d = copy.deepcopy(crate_dict)\n",
    "for command in commands:\n",
    "    mv, fr, to = re.findall(r'\\d+', command)\n",
    "    \n",
    "    d[to] += d[fr][-int(mv):]\n",
    "    del d[fr][-int(mv):]\n",
    "\n",
    "out = ''\n",
    "for l in d.values():\n",
    "    if len(l) > 0:\n",
    "        out += l[-1]\n",
    "print(out)"
   ]
  },
  {
   "cell_type": "code",
   "execution_count": null,
   "metadata": {},
   "outputs": [],
   "source": []
  }
 ],
 "metadata": {
  "kernelspec": {
   "display_name": "Python 3.10.6 64-bit ('lewagon')",
   "language": "python",
   "name": "python3"
  },
  "language_info": {
   "codemirror_mode": {
    "name": "ipython",
    "version": 3
   },
   "file_extension": ".py",
   "mimetype": "text/x-python",
   "name": "python",
   "nbconvert_exporter": "python",
   "pygments_lexer": "ipython3",
   "version": "3.10.6"
  },
  "orig_nbformat": 4,
  "vscode": {
   "interpreter": {
    "hash": "9e3810add8eaf207f04a2e3e099bb34c61927853b3f8b08ba72133680f0e19b6"
   }
  }
 },
 "nbformat": 4,
 "nbformat_minor": 2
}
