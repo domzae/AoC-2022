{
 "cells": [
  {
   "cell_type": "code",
   "execution_count": 1,
   "metadata": {},
   "outputs": [],
   "source": [
    "with open(\"inp.txt\") as f:\n",
    "    inp = [x.split() for x in f.readlines()]\n",
    "# inp"
   ]
  },
  {
   "cell_type": "markdown",
   "metadata": {},
   "source": [
    "# Part 1"
   ]
  },
  {
   "cell_type": "code",
   "execution_count": 2,
   "metadata": {},
   "outputs": [
    {
     "data": {
      "text/plain": [
       "14820"
      ]
     },
     "execution_count": 2,
     "metadata": {},
     "output_type": "execute_result"
    }
   ],
   "source": [
    "X = 1\n",
    "cycle = 0\n",
    "CPU = {0:1}\n",
    "for instruction in inp:\n",
    "    cycle += 1\n",
    "    \n",
    "    if len(instruction) == 2:\n",
    "        CPU[cycle] = X\n",
    "        cycle += 1\n",
    "        X += int(instruction[1])\n",
    "        \n",
    "    CPU[cycle] = X\n",
    "    \n",
    "sum(CPU[i-1]*i for i in range(20,221,40))\n"
   ]
  },
  {
   "cell_type": "markdown",
   "metadata": {},
   "source": [
    "# Part 2"
   ]
  },
  {
   "cell_type": "code",
   "execution_count": 3,
   "metadata": {},
   "outputs": [
    {
     "name": "stdout",
     "output_type": "stream",
     "text": [
      "██████    ████████  ████████  ██    ██  ████████  ████████  ██    ██    ████    \n",
      "██    ██        ██  ██        ██  ██    ██        ██        ██    ██  ██    ██  \n",
      "██    ██      ██    ██████    ████      ██████    ██████    ████████  ██    ██  \n",
      "██████      ██      ██        ██  ██    ██        ██        ██    ██  ████████  \n",
      "██  ██    ██        ██        ██  ██    ██        ██        ██    ██  ██    ██  \n",
      "██    ██  ████████  ████████  ██    ██  ████████  ██        ██    ██  ██    ██  \n"
     ]
    }
   ],
   "source": [
    "cycle = 0\n",
    "for x in range(6):\n",
    "    for y in range(40):\n",
    "        X = CPU[cycle]\n",
    "        if abs(y-X) <= 1:\n",
    "            print(\"██\",end=\"\")\n",
    "        else:\n",
    "            print(\"  \",end=\"\")\n",
    "        cycle += 1\n",
    "    print(\"\")\n",
    "        \n"
   ]
  },
  {
   "cell_type": "code",
   "execution_count": null,
   "metadata": {},
   "outputs": [],
   "source": []
  }
 ],
 "metadata": {
  "kernelspec": {
   "display_name": "Python 3.10.6 64-bit ('lewagon_current')",
   "language": "python",
   "name": "python3"
  },
  "language_info": {
   "codemirror_mode": {
    "name": "ipython",
    "version": 3
   },
   "file_extension": ".py",
   "mimetype": "text/x-python",
   "name": "python",
   "nbconvert_exporter": "python",
   "pygments_lexer": "ipython3",
   "version": "3.10.6"
  },
  "orig_nbformat": 4,
  "vscode": {
   "interpreter": {
    "hash": "534aae4c1dc217d2924621fa27fa919d5c174f30e55511d73d4cb79678b4a271"
   }
  }
 },
 "nbformat": 4,
 "nbformat_minor": 2
}
