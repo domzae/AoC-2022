{
 "cells": [
  {
   "cell_type": "code",
   "execution_count": 1,
   "metadata": {},
   "outputs": [],
   "source": [
    "import numpy as np\n",
    "import networkx as nx"
   ]
  },
  {
   "cell_type": "code",
   "execution_count": 2,
   "metadata": {},
   "outputs": [],
   "source": [
    "with open(\"inp.txt\") as f:\n",
    "    inp = [list(y) for y in [ x.strip() for x in f.readlines() ]]\n",
    "# inp"
   ]
  },
  {
   "cell_type": "code",
   "execution_count": 3,
   "metadata": {},
   "outputs": [],
   "source": [
    "hmap = np.array([ list(map(lambda a: ord(a) - 96, x)) for x in inp ])\n",
    "hmap[hmap == -13] = 0 # S\n",
    "hmap[hmap == -27] = 27 # E\n"
   ]
  },
  {
   "cell_type": "code",
   "execution_count": 4,
   "metadata": {},
   "outputs": [],
   "source": [
    "start = list(zip(*np.where(hmap == 0)))[0]\n",
    "end = list(zip(*np.where(hmap == 27)))[0]"
   ]
  },
  {
   "cell_type": "code",
   "execution_count": 5,
   "metadata": {},
   "outputs": [],
   "source": [
    "graph = nx.grid_2d_graph(hmap.shape[0], hmap.shape[1], create_using=nx.DiGraph())\n",
    "for u, v in graph.edges:\n",
    "    # Skip end edges\n",
    "    if hmap[u] == 27 or hmap[v[0],v[1]] == 27:\n",
    "        graph[u][v]['height_diff'] = 1\n",
    "    else:\n",
    "        graph[u][v]['height_diff'] = hmap[v[0], v[1]] - hmap[u]\n",
    "\n",
    "# Remove edges\n",
    "bad_edges = list(filter(lambda x: x[2] > 1, (e for e in graph.edges.data('height_diff'))))\n",
    "bad_edge_ids = list(x[:2] for x in bad_edges)\n",
    "graph.remove_edges_from(bad_edge_ids)\n",
    "\n"
   ]
  },
  {
   "cell_type": "code",
   "execution_count": 6,
   "metadata": {},
   "outputs": [
    {
     "name": "stdout",
     "output_type": "stream",
     "text": [
      "350\n"
     ]
    }
   ],
   "source": [
    "print(nx.shortest_path_length(graph,start,end))"
   ]
  },
  {
   "cell_type": "markdown",
   "metadata": {},
   "source": [
    "# Part 2"
   ]
  },
  {
   "cell_type": "code",
   "execution_count": 7,
   "metadata": {},
   "outputs": [
    {
     "name": "stdout",
     "output_type": "stream",
     "text": [
      "349\n"
     ]
    }
   ],
   "source": [
    "a_list = list(zip(*np.where(hmap == 1)))\n",
    "distances = []\n",
    "for start in a_list:\n",
    "    try:\n",
    "        distances.append(nx.shortest_path_length(graph, start, end))\n",
    "    except nx.NetworkXNoPath:\n",
    "        continue\n",
    "print(min(distances))"
   ]
  }
 ],
 "metadata": {
  "kernelspec": {
   "display_name": "Python 3.10.6 64-bit ('lewagon')",
   "language": "python",
   "name": "python3"
  },
  "language_info": {
   "codemirror_mode": {
    "name": "ipython",
    "version": 3
   },
   "file_extension": ".py",
   "mimetype": "text/x-python",
   "name": "python",
   "nbconvert_exporter": "python",
   "pygments_lexer": "ipython3",
   "version": "3.10.6"
  },
  "orig_nbformat": 4,
  "vscode": {
   "interpreter": {
    "hash": "9e3810add8eaf207f04a2e3e099bb34c61927853b3f8b08ba72133680f0e19b6"
   }
  }
 },
 "nbformat": 4,
 "nbformat_minor": 2
}
