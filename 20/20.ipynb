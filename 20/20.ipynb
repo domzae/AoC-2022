{
 "cells": [
  {
   "cell_type": "code",
   "execution_count": 114,
   "metadata": {},
   "outputs": [],
   "source": [
    "from collections import deque"
   ]
  },
  {
   "cell_type": "code",
   "execution_count": 120,
   "metadata": {},
   "outputs": [],
   "source": [
    "with open(\"inp.txt\") as f:\n",
    "    inp = [int(x) for x in f.readlines()]\n",
    "# inp"
   ]
  },
  {
   "cell_type": "code",
   "execution_count": 126,
   "metadata": {},
   "outputs": [
    {
     "name": "stdout",
     "output_type": "stream",
     "text": [
      "0: 9573\n",
      "1: 1824\n",
      "2: 7673\n",
      "Part 1: 19070\n",
      "0: 1370774079417\n",
      "1: 8039602149618\n",
      "2: 5362981123024\n",
      "Part 2: 14773357352059\n"
     ]
    }
   ],
   "source": [
    "def mix(part):\n",
    "    key = 811589153 if part == 2 else 1\n",
    "    rounds = 10 if part == 2 else 1\n",
    "    file = deque(enumerate((x*key for x in inp)))\n",
    "\n",
    "    for round in range(rounds):\n",
    "        for i in range(len(file)):\n",
    "            # rotate until we have index i at start\n",
    "            while file[0][0] != i:\n",
    "                file.rotate(-1)\n",
    "\n",
    "            ind, shift = file.popleft()\n",
    "            file.rotate(-1 * shift)\n",
    "            file.appendleft((ind, shift))\n",
    "\n",
    "    # rotate \"0\" value to start\n",
    "    while file[0][1] != 0:\n",
    "        file.rotate(-1)\n",
    "\n",
    "    nums = []\n",
    "    for i in range(3):\n",
    "        for j in range(1000):\n",
    "            file.rotate(-1)\n",
    "        print(f\"{i}: {file[0][1]}\")\n",
    "        nums.append(file[0][1])\n",
    "\n",
    "    return sum(nums)\n",
    "\n",
    "print(f\"Part 1: {mix(1)}\")\n",
    "print(f\"Part 2: {mix(2)}\")\n"
   ]
  },
  {
   "cell_type": "code",
   "execution_count": null,
   "metadata": {},
   "outputs": [],
   "source": []
  }
 ],
 "metadata": {
  "kernelspec": {
   "display_name": "lewagon_current",
   "language": "python",
   "name": "python3"
  },
  "language_info": {
   "codemirror_mode": {
    "name": "ipython",
    "version": 3
   },
   "file_extension": ".py",
   "mimetype": "text/x-python",
   "name": "python",
   "nbconvert_exporter": "python",
   "pygments_lexer": "ipython3",
   "version": "3.10.6"
  },
  "orig_nbformat": 4,
  "vscode": {
   "interpreter": {
    "hash": "534aae4c1dc217d2924621fa27fa919d5c174f30e55511d73d4cb79678b4a271"
   }
  }
 },
 "nbformat": 4,
 "nbformat_minor": 2
}
