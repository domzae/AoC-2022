{
 "cells": [
  {
   "cell_type": "code",
   "execution_count": 1,
   "metadata": {},
   "outputs": [],
   "source": [
    "with open(\"inp.txt\") as f:\n",
    "    inp = f.read().splitlines()\n",
    "# inp"
   ]
  },
  {
   "attachments": {},
   "cell_type": "markdown",
   "metadata": {},
   "source": [
    "# Part 1"
   ]
  },
  {
   "cell_type": "code",
   "execution_count": 2,
   "metadata": {},
   "outputs": [
    {
     "data": {
      "text/plain": [
       "7597"
      ]
     },
     "execution_count": 2,
     "metadata": {},
     "output_type": "execute_result"
    }
   ],
   "source": [
    "total = 0\n",
    "for line in inp:\n",
    "    c1 = line[:int(len(line)/2)]\n",
    "    c2 = line[int(len(line)/2):]\n",
    "    \n",
    "    diff = set(c1).intersection(set(c2)).pop()\n",
    "    \n",
    "    if diff.isupper():\n",
    "        total += ord(diff) - 38\n",
    "    else:\n",
    "        total += ord(diff) - 96\n",
    "total\n",
    "        "
   ]
  },
  {
   "cell_type": "markdown",
   "metadata": {},
   "source": [
    "# Part 2"
   ]
  },
  {
   "cell_type": "code",
   "execution_count": 3,
   "metadata": {},
   "outputs": [
    {
     "data": {
      "text/plain": [
       "2607"
      ]
     },
     "execution_count": 3,
     "metadata": {},
     "output_type": "execute_result"
    }
   ],
   "source": [
    "total = 0\n",
    "group = []\n",
    "for line in inp:\n",
    "    group.append(line)\n",
    "    if len(group) == 3:\n",
    "        diff = set(group[0]).intersection(set(group[1])).intersection(set(group[2])).pop()\n",
    "    \n",
    "        if diff.isupper():\n",
    "            total += ord(diff) - 38\n",
    "        else:\n",
    "            total += ord(diff) - 96\n",
    "        \n",
    "        group = []\n",
    "total\n",
    "        "
   ]
  }
 ],
 "metadata": {
  "kernelspec": {
   "display_name": "lewagon",
   "language": "python",
   "name": "python3"
  },
  "language_info": {
   "codemirror_mode": {
    "name": "ipython",
    "version": 3
   },
   "file_extension": ".py",
   "mimetype": "text/x-python",
   "name": "python",
   "nbconvert_exporter": "python",
   "pygments_lexer": "ipython3",
   "version": "3.10.6"
  },
  "orig_nbformat": 4,
  "vscode": {
   "interpreter": {
    "hash": "9e3810add8eaf207f04a2e3e099bb34c61927853b3f8b08ba72133680f0e19b6"
   }
  }
 },
 "nbformat": 4,
 "nbformat_minor": 2
}
