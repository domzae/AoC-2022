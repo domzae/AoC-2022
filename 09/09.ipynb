{
 "cells": [
  {
   "cell_type": "code",
   "execution_count": 1,
   "metadata": {},
   "outputs": [],
   "source": [
    "import itertools"
   ]
  },
  {
   "cell_type": "code",
   "execution_count": 2,
   "metadata": {},
   "outputs": [],
   "source": [
    "with open(\"inp.txt\") as f:\n",
    "    inp = [x.strip().split() for x in f.readlines()]\n",
    "# inp"
   ]
  },
  {
   "cell_type": "code",
   "execution_count": 3,
   "metadata": {},
   "outputs": [],
   "source": [
    "class Knot:\n",
    "    def __init__(self):\n",
    "        self.position = [0,0]\n",
    "\n",
    "    def move(self, direction):\n",
    "        match direction:\n",
    "            case 'R':\n",
    "                self.position[0] += 1\n",
    "            case 'L':\n",
    "                self.position[0] -= 1\n",
    "            case 'U':\n",
    "                self.position[1] += 1\n",
    "            case 'D':\n",
    "                self.position[1] -= 1\n",
    "            case other:\n",
    "                raise ValueError('Invalid direction.')\n",
    "\n",
    "        return self.position\n",
    "\n",
    "    def get_current_position(self):\n",
    "        return self.position.copy()"
   ]
  },
  {
   "attachments": {},
   "cell_type": "markdown",
   "metadata": {},
   "source": [
    "# Part 1"
   ]
  },
  {
   "cell_type": "code",
   "execution_count": 4,
   "metadata": {},
   "outputs": [
    {
     "data": {
      "text/plain": [
       "6367"
      ]
     },
     "execution_count": 4,
     "metadata": {},
     "output_type": "execute_result"
    }
   ],
   "source": [
    "head = Knot()\n",
    "tail = Knot()\n",
    "tail_visits = [[0,0]]\n",
    "\n",
    "for direction, reps in inp:\n",
    "    for _ in range(int(reps)):\n",
    "        # move head\n",
    "        h_pos = head.move(direction)\n",
    "        t_pos = tail.get_current_position()\n",
    "\n",
    "        # move diagonally\n",
    "        if ((abs(h_pos[0] - t_pos[0]) >= 1 and abs(h_pos[1] - t_pos[1]) > 1) or (abs(h_pos[0] - t_pos[0]) > 1 and abs(h_pos[1] - t_pos[1]) >= 1)):\n",
    "            if h_pos[0] > t_pos[0]:\n",
    "                tail.move('R')\n",
    "            else:\n",
    "                tail.move('L')\n",
    "            \n",
    "            if h_pos[1] > t_pos[1]:\n",
    "                tail.move('U')\n",
    "            else:\n",
    "                tail.move('D')\n",
    "\n",
    "        # move L or R\n",
    "        elif abs(h_pos[0] - t_pos[0]) > 1:\n",
    "            if h_pos[0] > t_pos[0]:\n",
    "                tail.move('R')\n",
    "            else:\n",
    "                tail.move('L')\n",
    "\n",
    "        # move U or D\n",
    "        elif abs(h_pos[1] - t_pos[1]) > 1:\n",
    "            if h_pos[1] > t_pos[1]:\n",
    "                tail.move('U')\n",
    "            else:\n",
    "                tail.move('D')\n",
    "        \n",
    "        tail_visits.append(tail.get_current_position())\n",
    "\n",
    "tail_visits.sort()\n",
    "deduped_tail_visits = [i for i, _ in itertools.groupby(tail_visits)]\n",
    "len(deduped_tail_visits)\n"
   ]
  },
  {
   "cell_type": "markdown",
   "metadata": {},
   "source": [
    "# Part 2"
   ]
  },
  {
   "cell_type": "code",
   "execution_count": 5,
   "metadata": {},
   "outputs": [
    {
     "data": {
      "text/plain": [
       "2536"
      ]
     },
     "execution_count": 5,
     "metadata": {},
     "output_type": "execute_result"
    }
   ],
   "source": [
    "rope = [Knot() for _ in range(10)]\n",
    "\n",
    "tail_visits = [[0, 0]]\n",
    "\n",
    "for direction, reps in inp:\n",
    "    for _ in range(int(reps)):\n",
    "        # Move head\n",
    "        rope[0].move(direction)\n",
    "\n",
    "        # Iterate through body movements\n",
    "        for knot in range(len(rope)-1):\n",
    "            leader = rope[knot]\n",
    "            l_pos = leader.get_current_position()\n",
    "            \n",
    "            follower = rope[knot+1]\n",
    "            f_pos = follower.get_current_position()\n",
    "\n",
    "            # move diagonally\n",
    "            if ((abs(l_pos[0] - f_pos[0]) >= 1 and abs(l_pos[1] - f_pos[1]) > 1) or (abs(l_pos[0] - f_pos[0]) > 1 and abs(l_pos[1] - f_pos[1]) >= 1)):\n",
    "                if l_pos[0] > f_pos[0]:\n",
    "                    follower.move('R')\n",
    "                else:\n",
    "                    follower.move('L')\n",
    "\n",
    "                if l_pos[1] > f_pos[1]:\n",
    "                    follower.move('U')\n",
    "                else:\n",
    "                    follower.move('D')\n",
    "\n",
    "            # move L or R\n",
    "            elif abs(l_pos[0] - f_pos[0]) > 1:\n",
    "                if l_pos[0] > f_pos[0]:\n",
    "                    follower.move('R')\n",
    "                else:\n",
    "                    follower.move('L')\n",
    "\n",
    "            # move U or D\n",
    "            elif abs(l_pos[1] - f_pos[1]) > 1:\n",
    "                if l_pos[1] > f_pos[1]:\n",
    "                    follower.move('U')\n",
    "                else:\n",
    "                    follower.move('D')\n",
    "\n",
    "        tail_visits.append(rope[-1].get_current_position())\n",
    "\n",
    "tail_visits.sort()\n",
    "deduped_tail_visits = [i for i, _ in itertools.groupby(tail_visits)]\n",
    "len(deduped_tail_visits)\n"
   ]
  },
  {
   "cell_type": "code",
   "execution_count": null,
   "metadata": {},
   "outputs": [],
   "source": []
  }
 ],
 "metadata": {
  "kernelspec": {
   "display_name": "Python 3.10.6 64-bit ('lewagon')",
   "language": "python",
   "name": "python3"
  },
  "language_info": {
   "codemirror_mode": {
    "name": "ipython",
    "version": 3
   },
   "file_extension": ".py",
   "mimetype": "text/x-python",
   "name": "python",
   "nbconvert_exporter": "python",
   "pygments_lexer": "ipython3",
   "version": "3.10.6"
  },
  "orig_nbformat": 4,
  "vscode": {
   "interpreter": {
    "hash": "9e3810add8eaf207f04a2e3e099bb34c61927853b3f8b08ba72133680f0e19b6"
   }
  }
 },
 "nbformat": 4,
 "nbformat_minor": 2
}
