{
 "cells": [
  {
   "cell_type": "code",
   "execution_count": 1,
   "metadata": {},
   "outputs": [],
   "source": [
    "import math"
   ]
  },
  {
   "cell_type": "code",
   "execution_count": 2,
   "metadata": {},
   "outputs": [],
   "source": [
    "with open(\"inp.txt\") as f:\n",
    "    inp = [x.split(\"\\n\") for x in f.read().split(\"\\n\\n\")]\n",
    "# inp"
   ]
  },
  {
   "attachments": {},
   "cell_type": "markdown",
   "metadata": {},
   "source": [
    "# Part 1"
   ]
  },
  {
   "cell_type": "code",
   "execution_count": 3,
   "metadata": {},
   "outputs": [],
   "source": [
    "monkeys = []\n",
    "for i, monkey in enumerate(inp):\n",
    "    monkey_dict = {}\n",
    "    monkey_dict[\"items\"] = [ int(x) for x in monkey[1][18:].split(\", \")]\n",
    "    monkey_dict[\"operation\"] = monkey[2][13:]\n",
    "    monkey_dict[\"test\"] = int(monkey[3][21:])\n",
    "    monkey_dict[\"true\"] = int(monkey[4][29:])\n",
    "    monkey_dict[\"false\"] = int(monkey[5][29:])\n",
    "    monkeys.append(monkey_dict)\n"
   ]
  },
  {
   "cell_type": "code",
   "execution_count": 4,
   "metadata": {},
   "outputs": [
    {
     "data": {
      "text/plain": [
       "107822"
      ]
     },
     "execution_count": 4,
     "metadata": {},
     "output_type": "execute_result"
    }
   ],
   "source": [
    "inspections = []\n",
    "inspections = inspections + [0] * len(monkeys)\n",
    "for _ in range(20):\n",
    "    for i, monkey in enumerate(monkeys):\n",
    "        # items\n",
    "        for old in monkey[\"items\"]:\n",
    "            # operation\n",
    "            exec(monkey[\"operation\"])\n",
    "            \n",
    "            # bored\n",
    "            new = math.floor(new / 3)\n",
    "            \n",
    "            # test\n",
    "            if new % monkey[\"test\"] == 0:\n",
    "                monkeys[monkey[\"true\"]][\"items\"].append(new)\n",
    "            else:\n",
    "                monkeys[monkey[\"false\"]][\"items\"].append(new)\n",
    "                \n",
    "            inspections[i] += 1\n",
    "        \n",
    "        monkey[\"items\"] = []\n",
    "        \n",
    "inspections.sort(reverse=True)\n",
    "inspections[0] * inspections[1]"
   ]
  },
  {
   "cell_type": "markdown",
   "metadata": {},
   "source": [
    "# Part 2"
   ]
  },
  {
   "cell_type": "code",
   "execution_count": 5,
   "metadata": {},
   "outputs": [],
   "source": [
    "monkeys = []\n",
    "for i, monkey in enumerate(inp):\n",
    "    monkey_dict = {}\n",
    "    monkey_dict[\"items\"] = [ int(x) for x in monkey[1][18:].split(\", \")]\n",
    "    monkey_dict[\"operation\"] = monkey[2][13:]\n",
    "    monkey_dict[\"test\"] = int(monkey[3][21:])\n",
    "    monkey_dict[\"true\"] = int(monkey[4][29:])\n",
    "    monkey_dict[\"false\"] = int(monkey[5][29:])\n",
    "    monkeys.append(monkey_dict)\n"
   ]
  },
  {
   "cell_type": "code",
   "execution_count": 6,
   "metadata": {},
   "outputs": [
    {
     "data": {
      "text/plain": [
       "27267163742"
      ]
     },
     "execution_count": 6,
     "metadata": {},
     "output_type": "execute_result"
    }
   ],
   "source": [
    "special_sauce = math.prod([x[\"test\"] for x in monkeys])\n",
    "inspections = []\n",
    "inspections = inspections + [0] * len(monkeys)\n",
    "for round in range(10000):\n",
    "    for i, monkey in enumerate(monkeys):\n",
    "        # items\n",
    "        for old in monkey[\"items\"]:\n",
    "            # operation\n",
    "            exec(monkey[\"operation\"])\n",
    "            \n",
    "            new = new % special_sauce\n",
    "            \n",
    "            # test\n",
    "            if new % monkey[\"test\"] == 0:\n",
    "                monkeys[monkey[\"true\"]][\"items\"].append(new)\n",
    "            else:\n",
    "                monkeys[monkey[\"false\"]][\"items\"].append(new)\n",
    "                \n",
    "            inspections[i] += 1\n",
    "        monkey[\"items\"] = []\n",
    "        \n",
    "inspections.sort(reverse=True)\n",
    "inspections[0] * inspections[1]"
   ]
  }
 ],
 "metadata": {
  "kernelspec": {
   "display_name": "lewagon",
   "language": "python",
   "name": "python3"
  },
  "language_info": {
   "codemirror_mode": {
    "name": "ipython",
    "version": 3
   },
   "file_extension": ".py",
   "mimetype": "text/x-python",
   "name": "python",
   "nbconvert_exporter": "python",
   "pygments_lexer": "ipython3",
   "version": "3.10.6"
  },
  "orig_nbformat": 4,
  "vscode": {
   "interpreter": {
    "hash": "9e3810add8eaf207f04a2e3e099bb34c61927853b3f8b08ba72133680f0e19b6"
   }
  }
 },
 "nbformat": 4,
 "nbformat_minor": 2
}
