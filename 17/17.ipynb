{
 "cells": [
  {
   "cell_type": "code",
   "execution_count": 1,
   "metadata": {},
   "outputs": [],
   "source": [
    "import numpy as np\n",
    "from itertools import cycle"
   ]
  },
  {
   "cell_type": "code",
   "execution_count": 2,
   "metadata": {},
   "outputs": [],
   "source": [
    "with open(\"ex.txt\") as f:\n",
    "    inp = f.read().strip()\n",
    "# inp"
   ]
  },
  {
   "cell_type": "code",
   "execution_count": 3,
   "metadata": {},
   "outputs": [],
   "source": [
    "a = cycle(inp)"
   ]
  },
  {
   "attachments": {},
   "cell_type": "markdown",
   "metadata": {},
   "source": [
    "# Part 1"
   ]
  },
  {
   "cell_type": "code",
   "execution_count": 4,
   "metadata": {},
   "outputs": [],
   "source": [
    "class Chamber:\n",
    "    def __init__(self, jets):\n",
    "        self.rocks = cycle([\n",
    "            np.array([[1,1,1,1]], bool),\n",
    "            np.array([[0,1,0],\n",
    "                      [1,1,1],\n",
    "                      [0,1,0]], bool),\n",
    "            np.array([[1,1,1],\n",
    "                      [0,0,1],\n",
    "                      [0,0,1]], bool),\n",
    "            np.array([[1],[1],[1],[1]], bool),\n",
    "            np.array([[1,1],\n",
    "                      [1,1]], bool)\n",
    "        ])\n",
    "\n",
    "        self.jets = cycle(jets)\n",
    "        \n",
    "        max_height = 2022 * 13 // 5\n",
    "        self.chamber = np.zeros((max_height,7), bool)\n",
    "        \n",
    "        self.top = 0\n",
    "        \n",
    "        self.rock_i = 0\n",
    "        self.jet_i = 0\n",
    "\n",
    "        \n",
    "    def check_collision(self, rock, x, y):\n",
    "        rh, rw = rock.shape\n",
    "        return (self.chamber[y:y+rh, x:x+rw] & rock).any()\n",
    "        \n",
    "    def settle(self, rock, x, y):\n",
    "        rh, rw = rock.shape\n",
    "        self.chamber[y:y+rh,x:x+rw] |= rock\n",
    "        \n",
    "        # Find new highest point\n",
    "        while self.chamber[self.top].any():\n",
    "            self.top += 1\n",
    "    \n",
    "    def rockfall(self):\n",
    "        rock = self.rocks.__next__()\n",
    "        # print(rock)\n",
    "        rh,rw = rock.shape\n",
    "        x = 2\n",
    "        y = self.top + 3\n",
    "        \n",
    "        while True:\n",
    "            # Jet push\n",
    "            jet = self.jets.__next__()\n",
    "            # print(jet)\n",
    "            if jet == '>':\n",
    "                # print('>',end=\"\")\n",
    "                if x + rw < 7 and not self.check_collision(rock, x+1, y):\n",
    "                    x += 1\n",
    "            else:\n",
    "                # print('<',end=\"\")\n",
    "                if x > 0 and not self.check_collision(rock, x-1, y):\n",
    "                    x -= 1\n",
    "            \n",
    "            # Fall\n",
    "            if not self.check_collision(rock, x, y-1) and y > 0:\n",
    "                y -= 1\n",
    "            else:\n",
    "                self.settle(rock, x, y)\n",
    "                return\n",
    "\n",
    "        \n",
    "        "
   ]
  },
  {
   "cell_type": "code",
   "execution_count": 5,
   "metadata": {},
   "outputs": [
    {
     "data": {
      "text/plain": [
       "3068"
      ]
     },
     "execution_count": 5,
     "metadata": {},
     "output_type": "execute_result"
    }
   ],
   "source": [
    "rock = 1\n",
    "chamber = Chamber(inp)\n",
    "for i in range(2022):\n",
    "    chamber.rockfall()\n",
    "    # print(chamber)\n",
    "    # if i == 5:\n",
    "    #     break\n",
    "chamber.top"
   ]
  },
  {
   "attachments": {},
   "cell_type": "markdown",
   "metadata": {},
   "source": [
    "# Part 2"
   ]
  },
  {
   "cell_type": "code",
   "execution_count": 8,
   "metadata": {},
   "outputs": [],
   "source": [
    "class Chamber:\n",
    "    def __init__(self, jets):\n",
    "        self.rocks = [\n",
    "            np.array([[1,1,1,1]], bool),\n",
    "            np.array([[0,1,0],\n",
    "                      [1,1,1],\n",
    "                      [0,1,0]], bool),\n",
    "            np.array([[1,1,1],\n",
    "                      [0,0,1],\n",
    "                      [0,0,1]], bool),\n",
    "            np.array([[1],[1],[1],[1]], bool),\n",
    "            np.array([[1,1],\n",
    "                      [1,1]], bool)\n",
    "        ]\n",
    "\n",
    "        self.jets = jets\n",
    "        \n",
    "        max_height = 10000\n",
    "        self.chamber = np.zeros((max_height,7), bool)\n",
    "        \n",
    "        self.top = 0\n",
    "        \n",
    "        self.jet_i = 0\n",
    "        self.rock_i = 0\n",
    "        self.counter = 0\n",
    "        \n",
    "    def check_collision(self, rock, x, y):\n",
    "        rh, rw = rock.shape\n",
    "        return (self.chamber[y:y+rh, x:x+rw] & rock).any()\n",
    "        \n",
    "    def settle(self, rock, x, y):\n",
    "        rh, rw = rock.shape\n",
    "        self.counter += 1\n",
    "        self.chamber[y:y+rh,x:x+rw] |= rock\n",
    "        \n",
    "        # Find new highest point\n",
    "        while self.chamber[self.top].any():\n",
    "            self.top += 1\n",
    "            \n",
    "    \n",
    "    def rockfall(self):\n",
    "        rock = self.rocks[self.rock_i]\n",
    "        if self.rock_i < 4:\n",
    "            self.rock_i += 1\n",
    "        else: \n",
    "            self.rock_i = 0\n",
    "        # print(rock)\n",
    "        rh,rw = rock.shape\n",
    "        x = 2\n",
    "        y = self.top + 3\n",
    "        \n",
    "        while True:\n",
    "            # Jet push\n",
    "            jet = self.jets[self.jet_i]\n",
    "            if self.jet_i < len(self.jets)-1:\n",
    "                self.jet_i += 1\n",
    "            else:\n",
    "                self.jet_i = 0\n",
    "            # print(jet)\n",
    "            if jet == '>':\n",
    "                # print('>',end=\"\")\n",
    "                if x + rw < 7 and not self.check_collision(rock, x+1, y):\n",
    "                    x += 1\n",
    "            else:\n",
    "                # print('<',end=\"\")\n",
    "                if x > 0 and not self.check_collision(rock, x-1, y):\n",
    "                    x -= 1\n",
    "            \n",
    "            # Fall\n",
    "            if not self.check_collision(rock, x, y-1) and y > 0:\n",
    "                y -= 1\n",
    "            else:\n",
    "                self.settle(rock, x, y)\n",
    "                return\n",
    "            \n",
    "    def get_hash(self):\n",
    "        return (self.jet_i * 6) + self.rock_i\n",
    "\n",
    "        \n",
    "        "
   ]
  },
  {
   "cell_type": "code",
   "execution_count": 9,
   "metadata": {},
   "outputs": [
    {
     "data": {
      "text/plain": [
       "1602881844347"
      ]
     },
     "execution_count": 9,
     "metadata": {},
     "output_type": "execute_result"
    }
   ],
   "source": [
    "with open(\"inp.txt\") as f:\n",
    "    inp = f.read().strip()\n",
    "\n",
    "max_height=0\n",
    "chamber = Chamber(inp)\n",
    "seen = set()\n",
    "cycle_seen = False\n",
    "hash_val = 0\n",
    "i = 0\n",
    "while i < 1000000000000:\n",
    "    if i == 3303:\n",
    "        x = 1\n",
    "    chamber.rockfall()\n",
    "    if cycle_seen == False:\n",
    "        if chamber.get_hash() in seen:\n",
    "            cycle_seen = True\n",
    "            height = chamber.top\n",
    "            counter = chamber.counter\n",
    "            hash_val = chamber.get_hash()\n",
    "    else:\n",
    "        if chamber.get_hash() == hash_val:\n",
    "            cycle_height = chamber.top - height\n",
    "            cycle_count = chamber.counter - counter\n",
    "            times = (1000000000000-i)//cycle_count\n",
    "            i += cycle_count * times\n",
    "            max_height += cycle_height * times\n",
    "            \n",
    "    seen.add(chamber.get_hash())\n",
    "    i+=1\n",
    "    \n",
    "max_height+=chamber.top\n",
    "max_height"
   ]
  }
 ],
 "metadata": {
  "kernelspec": {
   "display_name": "lewagon_current",
   "language": "python",
   "name": "python3"
  },
  "language_info": {
   "codemirror_mode": {
    "name": "ipython",
    "version": 3
   },
   "file_extension": ".py",
   "mimetype": "text/x-python",
   "name": "python",
   "nbconvert_exporter": "python",
   "pygments_lexer": "ipython3",
   "version": "3.10.6"
  },
  "orig_nbformat": 4,
  "vscode": {
   "interpreter": {
    "hash": "534aae4c1dc217d2924621fa27fa919d5c174f30e55511d73d4cb79678b4a271"
   }
  }
 },
 "nbformat": 4,
 "nbformat_minor": 2
}
