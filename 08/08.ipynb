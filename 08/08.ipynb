{
 "cells": [
  {
   "cell_type": "code",
   "execution_count": 1,
   "metadata": {},
   "outputs": [],
   "source": [
    "import numpy as np"
   ]
  },
  {
   "cell_type": "code",
   "execution_count": 2,
   "metadata": {},
   "outputs": [],
   "source": [
    "with open(\"inp.txt\") as f:\n",
    "    inp = np.array([[ y for y in x.strip()] for x in f.readlines()]).astype(int)\n",
    "# inp"
   ]
  },
  {
   "cell_type": "code",
   "execution_count": 3,
   "metadata": {},
   "outputs": [],
   "source": [
    "visibility = np.full(inp.shape,True)\n",
    "visibility[1:-1,1:-1] = False\n",
    "\n",
    "# visibility"
   ]
  },
  {
   "cell_type": "code",
   "execution_count": 4,
   "metadata": {},
   "outputs": [
    {
     "data": {
      "text/plain": [
       "1825"
      ]
     },
     "execution_count": 4,
     "metadata": {},
     "output_type": "execute_result"
    }
   ],
   "source": [
    "for i in range(1,inp.shape[0]-1):\n",
    "    for j in range(1,inp.shape[1]-1):\n",
    "        if all(inp[i,:j] < inp[i,j]):\n",
    "            visibility[i,j] = True\n",
    "        elif all(inp[:i,j] < inp[i,j]):\n",
    "            visibility[i,j] = True\n",
    "        elif all(inp[i+1:,j] < inp[i,j]):\n",
    "            visibility[i,j] = True\n",
    "        elif all(inp[i,j+1:] < inp[i,j]):\n",
    "            visibility[i,j] = True\n",
    "        \n",
    "sum(sum(visibility))"
   ]
  },
  {
   "cell_type": "markdown",
   "metadata": {},
   "source": [
    "# Part 2"
   ]
  },
  {
   "cell_type": "code",
   "execution_count": 5,
   "metadata": {},
   "outputs": [
    {
     "data": {
      "text/plain": [
       "235200"
      ]
     },
     "execution_count": 5,
     "metadata": {},
     "output_type": "execute_result"
    }
   ],
   "source": [
    "max = 0\n",
    "for i in range(1,inp.shape[0]-1):\n",
    "    for j in range(1,inp.shape[1]-1):\n",
    "        down=up=right=left = 0\n",
    "\n",
    "        # print(i,j, \"height: \",inp[i,j])\n",
    "        for n in inp[i+1:,j]:\n",
    "            down += 1\n",
    "            if n >= inp[i,j]:\n",
    "                break\n",
    "        for n in np.flip(inp[:i,j]):\n",
    "            up += 1\n",
    "            if n >= inp[i,j]:\n",
    "                break\n",
    "        for n in inp[i,j+1:]:\n",
    "            right += 1\n",
    "            if n >= inp[i,j]:\n",
    "                break\n",
    "        for n in np.flip(inp[i,:j]):\n",
    "            left += 1\n",
    "            if n >= inp[i,j]:\n",
    "                break\n",
    "\n",
    "        # print(down,up,right,left)\n",
    "        score = down * up * right * left\n",
    "        if score > max:\n",
    "            max = score\n",
    "\n",
    "max"
   ]
  },
  {
   "cell_type": "code",
   "execution_count": null,
   "metadata": {},
   "outputs": [],
   "source": []
  }
 ],
 "metadata": {
  "kernelspec": {
   "display_name": "Python 3.10.6 64-bit ('lewagon')",
   "language": "python",
   "name": "python3"
  },
  "language_info": {
   "codemirror_mode": {
    "name": "ipython",
    "version": 3
   },
   "file_extension": ".py",
   "mimetype": "text/x-python",
   "name": "python",
   "nbconvert_exporter": "python",
   "pygments_lexer": "ipython3",
   "version": "3.10.6"
  },
  "orig_nbformat": 4,
  "vscode": {
   "interpreter": {
    "hash": "9e3810add8eaf207f04a2e3e099bb34c61927853b3f8b08ba72133680f0e19b6"
   }
  }
 },
 "nbformat": 4,
 "nbformat_minor": 2
}
