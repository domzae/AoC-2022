{
 "cells": [
  {
   "cell_type": "code",
   "execution_count": 176,
   "metadata": {},
   "outputs": [],
   "source": [
    "from collections import deque"
   ]
  },
  {
   "cell_type": "code",
   "execution_count": 184,
   "metadata": {},
   "outputs": [],
   "source": [
    "with open(\"inp.txt\") as f:\n",
    "    inp = f.read().splitlines()\n",
    "# inp"
   ]
  },
  {
   "cell_type": "code",
   "execution_count": 185,
   "metadata": {},
   "outputs": [],
   "source": [
    "def move_north(elf):\n",
    "    global elves\n",
    "    x, y = elf\n",
    "    if set(((x-1,y-1), (x,y-1), (x+1,y-1))).intersection(elves):\n",
    "        return False\n",
    "    return (x,y-1)\n",
    "\n",
    "def move_south(elf):\n",
    "    global elves\n",
    "    x, y = elf\n",
    "    if set(((x-1,y+1), (x,y+1), (x+1,y+1))).intersection(elves):\n",
    "        return False\n",
    "    return (x,y+1)\n",
    "\n",
    "def move_west(elf):\n",
    "    global elves\n",
    "    x, y = elf\n",
    "    if set(((x-1,y-1), (x-1,y), (x-1,y+1))).intersection(elves):\n",
    "        return False\n",
    "    return (x-1,y)\n",
    "\n",
    "def move_east(elf):\n",
    "    global elves\n",
    "    x, y = elf\n",
    "    if set(((x+1,y-1), (x+1,y), (x+1,y+1))).intersection(elves):\n",
    "        return False\n",
    "    return (x+1,y)"
   ]
  },
  {
   "cell_type": "code",
   "execution_count": 186,
   "metadata": {},
   "outputs": [],
   "source": [
    "def print_elves(proposed):\n",
    "    for y in range(-2, 10):\n",
    "        for x in range(-3, 11):\n",
    "            if (x, y) in elves or (x,y) in proposed.values():\n",
    "                print(\"#\", end=\"\")\n",
    "            elif (x, y) in proposed.keys():\n",
    "                print(\"o\", end=\"\")\n",
    "            else:\n",
    "                print(\".\", end=\"\")\n",
    "        print(\"\")\n"
   ]
  },
  {
   "cell_type": "code",
   "execution_count": 187,
   "metadata": {},
   "outputs": [
    {
     "name": "stdout",
     "output_type": "stream",
     "text": [
      "-4 78 -4 79\n",
      "empty=4056\n"
     ]
    }
   ],
   "source": [
    "elves = []\n",
    "for y, line in enumerate(inp):\n",
    "    for x, char in enumerate(line):\n",
    "        if char == \"#\":\n",
    "            elves.append((x, y))\n",
    "moves = deque([move_north, move_south, move_west, move_east])\n",
    "# print(\"== Initial State ==\")\n",
    "# print_elves({elf:elf for elf in elves})\n",
    "for round in range(10):\n",
    "\n",
    "    ### First half\n",
    "    proposed = {}\n",
    "    for elf in elves:\n",
    "        next_coords = False\n",
    "        directions = 0\n",
    "        for move in moves:\n",
    "            new_coords = move(elf)\n",
    "            if new_coords:\n",
    "                directions += 1\n",
    "            if not next_coords:\n",
    "                next_coords = new_coords\n",
    "\n",
    "        # Add proposition if 1-3 directions\n",
    "        if 0 < directions < 4:\n",
    "            proposed[elf] = next_coords\n",
    "        \n",
    "\n",
    "    ### Second half\n",
    "    # Check for collisions\n",
    "    to_remove = []\n",
    "    proposal_list = list(proposed.values())\n",
    "    for k,v in proposed.items():\n",
    "        if proposal_list.count(v) > 1:\n",
    "            to_remove.append(k)\n",
    "    \n",
    "    # Remove collisions from proposal\n",
    "    for k in to_remove:\n",
    "        proposed.pop(k)\n",
    "\n",
    "    # Actually move\n",
    "    for i,elf in enumerate(elves):\n",
    "        if elf in proposed.keys():\n",
    "            elves[i] = proposed[elf]\n",
    "    \n",
    "    # print(f\"== End of Round {round+1}\")\n",
    "    # print(' -> '.join([x.__name__ for x in moves]))\n",
    "    # print_elves(proposed)\n",
    "\n",
    "    # Shift move order\n",
    "    moves.rotate(-1)\n",
    "\n",
    "# Empty space calculation\n",
    "min_x = max_x = elves[0][0]\n",
    "min_y = max_y = elves[0][1]\n",
    "for x,y in elves:\n",
    "    if x < min_x:\n",
    "        min_x = x\n",
    "    if x > max_x:\n",
    "        max_x = x\n",
    "    if y < min_y:\n",
    "        min_y = y\n",
    "    if y > max_y:\n",
    "        max_y = y\n",
    "print(min_x, max_x+1, min_y, max_y+1)\n",
    "empty = ((max_x+1 - min_x) * (max_y+1 - min_y)) - len(elves)\n",
    "print(f\"{empty=}\")"
   ]
  },
  {
   "attachments": {},
   "cell_type": "markdown",
   "metadata": {},
   "source": [
    "# Part 2"
   ]
  },
  {
   "cell_type": "code",
   "execution_count": 190,
   "metadata": {},
   "outputs": [
    {
     "name": "stdout",
     "output_type": "stream",
     "text": [
      "round_count=999\n"
     ]
    }
   ],
   "source": [
    "with open(\"inp.txt\") as f:\n",
    "    inp = f.read().splitlines()\n",
    "\n",
    "elves = []\n",
    "for y, line in enumerate(inp):\n",
    "    for x, char in enumerate(line):\n",
    "        if char == \"#\":\n",
    "            elves.append((x, y))\n",
    "moves = deque([move_north, move_south, move_west, move_east])\n",
    "# print(\"== Initial State ==\")\n",
    "# print_elves({elf:elf for elf in elves})\n",
    "round_count = 0\n",
    "while True:\n",
    "    round_count += 1\n",
    "    ### First half\n",
    "    proposed = {}\n",
    "    for elf in elves:\n",
    "        next_coords = False\n",
    "        directions = 0\n",
    "        for move in moves:\n",
    "            new_coords = move(elf)\n",
    "            if new_coords:\n",
    "                directions += 1\n",
    "            if not next_coords:\n",
    "                next_coords = new_coords\n",
    "\n",
    "        # Add proposition if 1-3 directions\n",
    "        if 0 < directions < 4:\n",
    "            proposed[elf] = next_coords\n",
    "        \n",
    "\n",
    "    ### Second half\n",
    "    # Check for collisions\n",
    "    to_remove = []\n",
    "    proposal_list = list(proposed.values())\n",
    "    for k,v in proposed.items():\n",
    "        if proposal_list.count(v) > 1:\n",
    "            to_remove.append(k)\n",
    "    \n",
    "    # Remove collisions from proposal\n",
    "    for k in to_remove:\n",
    "        proposed.pop(k)\n",
    "    if len(proposed) == 0:\n",
    "        print(f\"{round_count=}\")\n",
    "        break\n",
    "    # Actually move\n",
    "    for i,elf in enumerate(elves):\n",
    "        if elf in proposed.keys():\n",
    "            elves[i] = proposed[elf]\n",
    "    \n",
    "    # print(f\"== End of Round {round+1}\")\n",
    "    # print(' -> '.join([x.__name__ for x in moves]))\n",
    "    # print_elves(proposed)\n",
    "\n",
    "    # Shift move order\n",
    "    moves.rotate(-1)"
   ]
  },
  {
   "cell_type": "code",
   "execution_count": null,
   "metadata": {},
   "outputs": [],
   "source": []
  }
 ],
 "metadata": {
  "kernelspec": {
   "display_name": "Python 3.10.6 64-bit ('lewagon')",
   "language": "python",
   "name": "python3"
  },
  "language_info": {
   "codemirror_mode": {
    "name": "ipython",
    "version": 3
   },
   "file_extension": ".py",
   "mimetype": "text/x-python",
   "name": "python",
   "nbconvert_exporter": "python",
   "pygments_lexer": "ipython3",
   "version": "3.10.6"
  },
  "orig_nbformat": 4,
  "vscode": {
   "interpreter": {
    "hash": "9e3810add8eaf207f04a2e3e099bb34c61927853b3f8b08ba72133680f0e19b6"
   }
  }
 },
 "nbformat": 4,
 "nbformat_minor": 2
}
